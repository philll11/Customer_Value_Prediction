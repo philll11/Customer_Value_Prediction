{
 "cells": [
  {
   "cell_type": "markdown",
   "metadata": {},
   "source": [
    "# Santander Value Prediction Challenge\n",
    "In today's modern world, data privacy has become critically important when working with personal information. In the consulting and open source worlds, forms of anonymization and data encryption are being used more frequently to ensure private data is not open to the public. This, however, from a data science viewpoint, makes the analyst process difficult. Therefore, any data scientist needs to be comfortable with working with and drawing meaning from anonymous data.\n",
    "\n",
    "This notebook showcases my methods for analyzing, understanding and modeling anonymous data to predict customer value. This notebook is also a Kaggle kernel and can be found at this link:\n",
    "\n",
    "Notebook structure:\n",
    "1. Importing the data\n",
    "2. EDA\n",
    "3. Feature Engineering\n",
    "4. Feature Selection\n",
    "5. Selecting the best model\n",
    "6. Tuning the model\n",
    "7. Final results\n",
    "\n",
    "-/ Written by Leonard Phillips"
   ]
  },
  {
   "cell_type": "code",
   "execution_count": 1,
   "metadata": {
    "ExecuteTime": {
     "end_time": "2019-09-25T20:05:57.497781Z",
     "start_time": "2019-09-25T20:05:43.033269Z"
    },
    "_cell_guid": "b1076dfc-b9ad-4769-8c92-a6c4dae69d19",
    "_uuid": "8f2839f25d086af736a60e9eeb907d3b93b6e0e5"
   },
   "outputs": [],
   "source": [
    "# Load libraries.\n",
    "import numpy as np\n",
    "import pandas as pd\n",
    "pd.set_option('display.float_format', lambda x: '%.3f' % x)\n",
    "import scipy\n",
    "import os\n",
    "import time\n",
    "import gc\n",
    "from pprint import pprint\n",
    "\n",
    "import matplotlib.pyplot as plt\n",
    "import seaborn as sns\n",
    "plt.style.use('ggplot')\n",
    "\n",
    "from sklearn.neighbors import KNeighborsRegressor\n",
    "from sklearn.tree import DecisionTreeRegressor\n",
    "from sklearn.ensemble import RandomForestRegressor\n",
    "import xgboost as xgb\n",
    "\n",
    "from sklearn.model_selection import ParameterGrid\n",
    "from sklearn.model_selection import RandomizedSearchCV\n",
    "from sklearn.model_selection import GridSearchCV\n",
    "from sklearn.model_selection import train_test_split\n",
    "from sklearn.model_selection import KFold\n",
    "from sklearn import metrics"
   ]
  },
  {
   "cell_type": "code",
   "execution_count": 2,
   "metadata": {},
   "outputs": [],
   "source": [
    "# Import datasets.\n",
    "path = '../input/santander-value-prediction-challenge/'\n",
    "train = pd.read_csv(path + 'train.csv')\n",
    "test = pd.read_csv(path + 'test.csv')"
   ]
  },
  {
   "cell_type": "markdown",
   "metadata": {},
   "source": [
    "#### Memory Reduction\n",
    "The following function reduces the size of our dataset to reduce the amount of RAM needed.\n",
    "\n",
    "This function was created by https://www.kaggle.com/rinnqd.\n",
    "\n",
    "Reference: https://www.kaggle.com/rinnqd/reduce-memory-usage"
   ]
  },
  {
   "cell_type": "code",
   "execution_count": 3,
   "metadata": {},
   "outputs": [],
   "source": [
    "\n",
    "def reduce_mem_usage(df, verbose=True):\n",
    "    numerics = ['int16', 'int32', 'int64', 'float16', 'float32', 'float64']\n",
    "    start_mem = df.memory_usage().sum() / 1024**2\n",
    "    for col in df.columns:\n",
    "        col_type = df[col].dtypes\n",
    "        if col_type in numerics:\n",
    "            c_min = df[col].min()\n",
    "            c_max = df[col].max()\n",
    "            if str(col_type)[:3] == 'int':\n",
    "                if c_min > np.iinfo(np.int8).min and c_max < np.iinfo(np.int8).max:\n",
    "                    df[col] = df[col].astype(np.int8)\n",
    "                elif c_min > np.iinfo(np.int16).min and c_max < np.iinfo(np.int16).max:\n",
    "                    df[col] = df[col].astype(np.int16)\n",
    "                elif c_min > np.iinfo(np.int32).min and c_max < np.iinfo(np.int32).max:\n",
    "                    df[col] = df[col].astype(np.int32)\n",
    "                elif c_min > np.iinfo(np.int64).min and c_max < np.iinfo(np.int64).max:\n",
    "                    df[col] = df[col].astype(np.int64)\n",
    "            else:\n",
    "                if c_min > np.finfo(np.float16).min and c_max < np.finfo(np.float16).max:\n",
    "                    df[col] = df[col].astype(np.float16)\n",
    "                elif c_min > np.finfo(np.float32).min and c_max < np.finfo(np.float32).max:\n",
    "                    df[col] = df[col].astype(np.float32)\n",
    "                else:\n",
    "                    df[col] = df[col].astype(np.float64)\n",
    "\n",
    "    end_mem = df.memory_usage().sum() / 1024**2\n",
    "    print('Memory usage after optimization is: {:.2f} MB'.format(end_mem))\n",
    "    print('Decreased by {:.1f}%'.format(100 * (start_mem - end_mem) / start_mem))\n",
    "\n",
    "    return df"
   ]
  },
  {
   "cell_type": "code",
   "execution_count": 4,
   "metadata": {},
   "outputs": [
    {
     "name": "stdout",
     "output_type": "stream",
     "text": [
      "Memory usage after optimization is: 81.70 MB\n",
      "Decreased by 51.9%\n",
      "Memory usage after optimization is: 939.81 MB\n",
      "Decreased by 50.0%\n",
      "CPU times: user 18min 35s, sys: 41min 55s, total: 1h 31s\n",
      "Wall time: 1h 35s\n"
     ]
    }
   ],
   "source": [
    "%%time\n",
    "train = reduce_mem_usage(train)\n",
    "test = reduce_mem_usage(test)"
   ]
  },
  {
   "cell_type": "markdown",
   "metadata": {},
   "source": [
    "## EDA\n",
    "First we want to get an idea of what we are working with. Lets have a look at the shape, head, tail and the data types in each row."
   ]
  },
  {
   "cell_type": "code",
   "execution_count": 5,
   "metadata": {},
   "outputs": [
    {
     "name": "stdout",
     "output_type": "stream",
     "text": [
      "The train dataset has 4459 rows and 4993 columns\n",
      "The test dataset has 49342 rows and 4992 columns\n"
     ]
    }
   ],
   "source": [
    "print(f'The train dataset has {train.shape[0]} rows and {train.shape[1]} columns')\n",
    "print(f'The test dataset has {test.shape[0]} rows and {test.shape[1]} columns')"
   ]
  },
  {
   "cell_type": "code",
   "execution_count": 6,
   "metadata": {},
   "outputs": [
    {
     "name": "stdout",
     "output_type": "stream",
     "text": [
      "<class 'pandas.core.frame.DataFrame'>\n",
      "RangeIndex: 4459 entries, 0 to 4458\n",
      "Columns: 4993 entries, ID to 9fc776466\n",
      "dtypes: float32(1845), int16(14), int32(2869), int64(8), int8(256), object(1)\n",
      "memory usage: 81.7+ MB\n"
     ]
    }
   ],
   "source": [
    "train.info()"
   ]
  },
  {
   "cell_type": "code",
   "execution_count": 7,
   "metadata": {},
   "outputs": [
    {
     "name": "stdout",
     "output_type": "stream",
     "text": [
      "<class 'pandas.core.frame.DataFrame'>\n",
      "RangeIndex: 49342 entries, 0 to 49341\n",
      "Columns: 4992 entries, ID to 9fc776466\n",
      "dtypes: float32(4991), object(1)\n",
      "memory usage: 939.8+ MB\n"
     ]
    }
   ],
   "source": [
    "test.info()"
   ]
  },
  {
   "cell_type": "markdown",
   "metadata": {},
   "source": [
    "Just from the initial look, it seems we have a very sparse dataset for both the train and test data. All columns have been anonymised so it will be tricky to get an intuition on what variables we want to use. We also see that there are more features than rows so manual feature selection will not be feasible. \n",
    "The target variable seems to consist of very large values.\n",
    "\n",
    "The test dataset maybe to large to work and might require memory reducion. This can be determined when building the model."
   ]
  },
  {
   "cell_type": "code",
   "execution_count": 8,
   "metadata": {},
   "outputs": [
    {
     "data": {
      "text/html": [
       "<div>\n",
       "<style scoped>\n",
       "    .dataframe tbody tr th:only-of-type {\n",
       "        vertical-align: middle;\n",
       "    }\n",
       "\n",
       "    .dataframe tbody tr th {\n",
       "        vertical-align: top;\n",
       "    }\n",
       "\n",
       "    .dataframe thead th {\n",
       "        text-align: right;\n",
       "    }\n",
       "</style>\n",
       "<table border=\"1\" class=\"dataframe\">\n",
       "  <thead>\n",
       "    <tr style=\"text-align: right;\">\n",
       "      <th></th>\n",
       "      <th>ID</th>\n",
       "      <th>target</th>\n",
       "      <th>48df886f9</th>\n",
       "      <th>0deb4b6a8</th>\n",
       "      <th>34b15f335</th>\n",
       "      <th>a8cb14b00</th>\n",
       "      <th>2f0771a37</th>\n",
       "      <th>30347e683</th>\n",
       "      <th>d08d1fbe3</th>\n",
       "      <th>6ee66e115</th>\n",
       "      <th>...</th>\n",
       "      <th>3ecc09859</th>\n",
       "      <th>9281abeea</th>\n",
       "      <th>8675bec0b</th>\n",
       "      <th>3a13ed79a</th>\n",
       "      <th>f677d4d13</th>\n",
       "      <th>71b203550</th>\n",
       "      <th>137efaa80</th>\n",
       "      <th>fb36b89d9</th>\n",
       "      <th>7e293fbaf</th>\n",
       "      <th>9fc776466</th>\n",
       "    </tr>\n",
       "  </thead>\n",
       "  <tbody>\n",
       "    <tr>\n",
       "      <td>0</td>\n",
       "      <td>000d6aaf2</td>\n",
       "      <td>38000000.000</td>\n",
       "      <td>0.000</td>\n",
       "      <td>0</td>\n",
       "      <td>0.000</td>\n",
       "      <td>0</td>\n",
       "      <td>0</td>\n",
       "      <td>0</td>\n",
       "      <td>0</td>\n",
       "      <td>0</td>\n",
       "      <td>...</td>\n",
       "      <td>0.000</td>\n",
       "      <td>0.000</td>\n",
       "      <td>0.000</td>\n",
       "      <td>0</td>\n",
       "      <td>0</td>\n",
       "      <td>0</td>\n",
       "      <td>0</td>\n",
       "      <td>0</td>\n",
       "      <td>0</td>\n",
       "      <td>0</td>\n",
       "    </tr>\n",
       "    <tr>\n",
       "      <td>1</td>\n",
       "      <td>000fbd867</td>\n",
       "      <td>600000.000</td>\n",
       "      <td>0.000</td>\n",
       "      <td>0</td>\n",
       "      <td>0.000</td>\n",
       "      <td>0</td>\n",
       "      <td>0</td>\n",
       "      <td>0</td>\n",
       "      <td>0</td>\n",
       "      <td>0</td>\n",
       "      <td>...</td>\n",
       "      <td>0.000</td>\n",
       "      <td>0.000</td>\n",
       "      <td>0.000</td>\n",
       "      <td>0</td>\n",
       "      <td>0</td>\n",
       "      <td>0</td>\n",
       "      <td>0</td>\n",
       "      <td>0</td>\n",
       "      <td>0</td>\n",
       "      <td>0</td>\n",
       "    </tr>\n",
       "    <tr>\n",
       "      <td>2</td>\n",
       "      <td>0027d6b71</td>\n",
       "      <td>10000000.000</td>\n",
       "      <td>0.000</td>\n",
       "      <td>0</td>\n",
       "      <td>0.000</td>\n",
       "      <td>0</td>\n",
       "      <td>0</td>\n",
       "      <td>0</td>\n",
       "      <td>0</td>\n",
       "      <td>0</td>\n",
       "      <td>...</td>\n",
       "      <td>0.000</td>\n",
       "      <td>0.000</td>\n",
       "      <td>0.000</td>\n",
       "      <td>0</td>\n",
       "      <td>0</td>\n",
       "      <td>0</td>\n",
       "      <td>0</td>\n",
       "      <td>0</td>\n",
       "      <td>0</td>\n",
       "      <td>0</td>\n",
       "    </tr>\n",
       "    <tr>\n",
       "      <td>3</td>\n",
       "      <td>0028cbf45</td>\n",
       "      <td>2000000.000</td>\n",
       "      <td>0.000</td>\n",
       "      <td>0</td>\n",
       "      <td>0.000</td>\n",
       "      <td>0</td>\n",
       "      <td>0</td>\n",
       "      <td>0</td>\n",
       "      <td>0</td>\n",
       "      <td>0</td>\n",
       "      <td>...</td>\n",
       "      <td>0.000</td>\n",
       "      <td>0.000</td>\n",
       "      <td>0.000</td>\n",
       "      <td>0</td>\n",
       "      <td>0</td>\n",
       "      <td>0</td>\n",
       "      <td>0</td>\n",
       "      <td>0</td>\n",
       "      <td>0</td>\n",
       "      <td>0</td>\n",
       "    </tr>\n",
       "    <tr>\n",
       "      <td>4</td>\n",
       "      <td>002a68644</td>\n",
       "      <td>14400000.000</td>\n",
       "      <td>0.000</td>\n",
       "      <td>0</td>\n",
       "      <td>0.000</td>\n",
       "      <td>0</td>\n",
       "      <td>0</td>\n",
       "      <td>0</td>\n",
       "      <td>0</td>\n",
       "      <td>0</td>\n",
       "      <td>...</td>\n",
       "      <td>0.000</td>\n",
       "      <td>0.000</td>\n",
       "      <td>0.000</td>\n",
       "      <td>0</td>\n",
       "      <td>0</td>\n",
       "      <td>0</td>\n",
       "      <td>0</td>\n",
       "      <td>0</td>\n",
       "      <td>0</td>\n",
       "      <td>0</td>\n",
       "    </tr>\n",
       "  </tbody>\n",
       "</table>\n",
       "<p>5 rows × 4993 columns</p>\n",
       "</div>"
      ],
      "text/plain": [
       "          ID       target  48df886f9  0deb4b6a8  34b15f335  a8cb14b00  \\\n",
       "0  000d6aaf2 38000000.000      0.000          0      0.000          0   \n",
       "1  000fbd867   600000.000      0.000          0      0.000          0   \n",
       "2  0027d6b71 10000000.000      0.000          0      0.000          0   \n",
       "3  0028cbf45  2000000.000      0.000          0      0.000          0   \n",
       "4  002a68644 14400000.000      0.000          0      0.000          0   \n",
       "\n",
       "   2f0771a37  30347e683  d08d1fbe3  6ee66e115  ...  3ecc09859  9281abeea  \\\n",
       "0          0          0          0          0  ...      0.000      0.000   \n",
       "1          0          0          0          0  ...      0.000      0.000   \n",
       "2          0          0          0          0  ...      0.000      0.000   \n",
       "3          0          0          0          0  ...      0.000      0.000   \n",
       "4          0          0          0          0  ...      0.000      0.000   \n",
       "\n",
       "   8675bec0b  3a13ed79a  f677d4d13  71b203550  137efaa80  fb36b89d9  \\\n",
       "0      0.000          0          0          0          0          0   \n",
       "1      0.000          0          0          0          0          0   \n",
       "2      0.000          0          0          0          0          0   \n",
       "3      0.000          0          0          0          0          0   \n",
       "4      0.000          0          0          0          0          0   \n",
       "\n",
       "   7e293fbaf  9fc776466  \n",
       "0          0          0  \n",
       "1          0          0  \n",
       "2          0          0  \n",
       "3          0          0  \n",
       "4          0          0  \n",
       "\n",
       "[5 rows x 4993 columns]"
      ]
     },
     "execution_count": 8,
     "metadata": {},
     "output_type": "execute_result"
    }
   ],
   "source": [
    "train.head(5)"
   ]
  },
  {
   "cell_type": "code",
   "execution_count": 9,
   "metadata": {},
   "outputs": [
    {
     "data": {
      "text/html": [
       "<div>\n",
       "<style scoped>\n",
       "    .dataframe tbody tr th:only-of-type {\n",
       "        vertical-align: middle;\n",
       "    }\n",
       "\n",
       "    .dataframe tbody tr th {\n",
       "        vertical-align: top;\n",
       "    }\n",
       "\n",
       "    .dataframe thead th {\n",
       "        text-align: right;\n",
       "    }\n",
       "</style>\n",
       "<table border=\"1\" class=\"dataframe\">\n",
       "  <thead>\n",
       "    <tr style=\"text-align: right;\">\n",
       "      <th></th>\n",
       "      <th>ID</th>\n",
       "      <th>48df886f9</th>\n",
       "      <th>0deb4b6a8</th>\n",
       "      <th>34b15f335</th>\n",
       "      <th>a8cb14b00</th>\n",
       "      <th>2f0771a37</th>\n",
       "      <th>30347e683</th>\n",
       "      <th>d08d1fbe3</th>\n",
       "      <th>6ee66e115</th>\n",
       "      <th>20aa07010</th>\n",
       "      <th>...</th>\n",
       "      <th>3ecc09859</th>\n",
       "      <th>9281abeea</th>\n",
       "      <th>8675bec0b</th>\n",
       "      <th>3a13ed79a</th>\n",
       "      <th>f677d4d13</th>\n",
       "      <th>71b203550</th>\n",
       "      <th>137efaa80</th>\n",
       "      <th>fb36b89d9</th>\n",
       "      <th>7e293fbaf</th>\n",
       "      <th>9fc776466</th>\n",
       "    </tr>\n",
       "  </thead>\n",
       "  <tbody>\n",
       "    <tr>\n",
       "      <td>0</td>\n",
       "      <td>000137c73</td>\n",
       "      <td>0.000</td>\n",
       "      <td>0.000</td>\n",
       "      <td>0.000</td>\n",
       "      <td>0.000</td>\n",
       "      <td>0.000</td>\n",
       "      <td>0.000</td>\n",
       "      <td>0.000</td>\n",
       "      <td>0.000</td>\n",
       "      <td>0.000</td>\n",
       "      <td>...</td>\n",
       "      <td>0.000</td>\n",
       "      <td>0.000</td>\n",
       "      <td>0.000</td>\n",
       "      <td>0.000</td>\n",
       "      <td>0.000</td>\n",
       "      <td>0.000</td>\n",
       "      <td>0.000</td>\n",
       "      <td>0.000</td>\n",
       "      <td>0.000</td>\n",
       "      <td>0.000</td>\n",
       "    </tr>\n",
       "    <tr>\n",
       "      <td>1</td>\n",
       "      <td>00021489f</td>\n",
       "      <td>0.000</td>\n",
       "      <td>0.000</td>\n",
       "      <td>0.000</td>\n",
       "      <td>0.000</td>\n",
       "      <td>0.000</td>\n",
       "      <td>0.000</td>\n",
       "      <td>0.000</td>\n",
       "      <td>0.000</td>\n",
       "      <td>0.000</td>\n",
       "      <td>...</td>\n",
       "      <td>0.000</td>\n",
       "      <td>0.000</td>\n",
       "      <td>0.000</td>\n",
       "      <td>0.000</td>\n",
       "      <td>0.000</td>\n",
       "      <td>0.000</td>\n",
       "      <td>0.000</td>\n",
       "      <td>0.000</td>\n",
       "      <td>0.000</td>\n",
       "      <td>0.000</td>\n",
       "    </tr>\n",
       "    <tr>\n",
       "      <td>2</td>\n",
       "      <td>0004d7953</td>\n",
       "      <td>0.000</td>\n",
       "      <td>0.000</td>\n",
       "      <td>0.000</td>\n",
       "      <td>0.000</td>\n",
       "      <td>0.000</td>\n",
       "      <td>0.000</td>\n",
       "      <td>0.000</td>\n",
       "      <td>0.000</td>\n",
       "      <td>0.000</td>\n",
       "      <td>...</td>\n",
       "      <td>0.000</td>\n",
       "      <td>0.000</td>\n",
       "      <td>0.000</td>\n",
       "      <td>0.000</td>\n",
       "      <td>0.000</td>\n",
       "      <td>0.000</td>\n",
       "      <td>0.000</td>\n",
       "      <td>0.000</td>\n",
       "      <td>0.000</td>\n",
       "      <td>0.000</td>\n",
       "    </tr>\n",
       "    <tr>\n",
       "      <td>3</td>\n",
       "      <td>00056a333</td>\n",
       "      <td>0.000</td>\n",
       "      <td>0.000</td>\n",
       "      <td>0.000</td>\n",
       "      <td>0.000</td>\n",
       "      <td>0.000</td>\n",
       "      <td>0.000</td>\n",
       "      <td>0.000</td>\n",
       "      <td>0.000</td>\n",
       "      <td>0.000</td>\n",
       "      <td>...</td>\n",
       "      <td>0.000</td>\n",
       "      <td>0.000</td>\n",
       "      <td>0.000</td>\n",
       "      <td>0.000</td>\n",
       "      <td>0.000</td>\n",
       "      <td>0.000</td>\n",
       "      <td>0.000</td>\n",
       "      <td>0.000</td>\n",
       "      <td>0.000</td>\n",
       "      <td>0.000</td>\n",
       "    </tr>\n",
       "    <tr>\n",
       "      <td>4</td>\n",
       "      <td>00056d8eb</td>\n",
       "      <td>0.000</td>\n",
       "      <td>0.000</td>\n",
       "      <td>0.000</td>\n",
       "      <td>0.000</td>\n",
       "      <td>0.000</td>\n",
       "      <td>0.000</td>\n",
       "      <td>0.000</td>\n",
       "      <td>0.000</td>\n",
       "      <td>0.000</td>\n",
       "      <td>...</td>\n",
       "      <td>0.000</td>\n",
       "      <td>0.000</td>\n",
       "      <td>0.000</td>\n",
       "      <td>0.000</td>\n",
       "      <td>0.000</td>\n",
       "      <td>0.000</td>\n",
       "      <td>0.000</td>\n",
       "      <td>0.000</td>\n",
       "      <td>0.000</td>\n",
       "      <td>0.000</td>\n",
       "    </tr>\n",
       "  </tbody>\n",
       "</table>\n",
       "<p>5 rows × 4992 columns</p>\n",
       "</div>"
      ],
      "text/plain": [
       "          ID  48df886f9  0deb4b6a8  34b15f335  a8cb14b00  2f0771a37  \\\n",
       "0  000137c73      0.000      0.000      0.000      0.000      0.000   \n",
       "1  00021489f      0.000      0.000      0.000      0.000      0.000   \n",
       "2  0004d7953      0.000      0.000      0.000      0.000      0.000   \n",
       "3  00056a333      0.000      0.000      0.000      0.000      0.000   \n",
       "4  00056d8eb      0.000      0.000      0.000      0.000      0.000   \n",
       "\n",
       "   30347e683  d08d1fbe3  6ee66e115  20aa07010  ...  3ecc09859  9281abeea  \\\n",
       "0      0.000      0.000      0.000      0.000  ...      0.000      0.000   \n",
       "1      0.000      0.000      0.000      0.000  ...      0.000      0.000   \n",
       "2      0.000      0.000      0.000      0.000  ...      0.000      0.000   \n",
       "3      0.000      0.000      0.000      0.000  ...      0.000      0.000   \n",
       "4      0.000      0.000      0.000      0.000  ...      0.000      0.000   \n",
       "\n",
       "   8675bec0b  3a13ed79a  f677d4d13  71b203550  137efaa80  fb36b89d9  \\\n",
       "0      0.000      0.000      0.000      0.000      0.000      0.000   \n",
       "1      0.000      0.000      0.000      0.000      0.000      0.000   \n",
       "2      0.000      0.000      0.000      0.000      0.000      0.000   \n",
       "3      0.000      0.000      0.000      0.000      0.000      0.000   \n",
       "4      0.000      0.000      0.000      0.000      0.000      0.000   \n",
       "\n",
       "   7e293fbaf  9fc776466  \n",
       "0      0.000      0.000  \n",
       "1      0.000      0.000  \n",
       "2      0.000      0.000  \n",
       "3      0.000      0.000  \n",
       "4      0.000      0.000  \n",
       "\n",
       "[5 rows x 4992 columns]"
      ]
     },
     "execution_count": 9,
     "metadata": {},
     "output_type": "execute_result"
    }
   ],
   "source": [
    "test.head(5)"
   ]
  },
  {
   "cell_type": "code",
   "execution_count": 10,
   "metadata": {},
   "outputs": [
    {
     "data": {
      "text/html": [
       "<div>\n",
       "<style scoped>\n",
       "    .dataframe tbody tr th:only-of-type {\n",
       "        vertical-align: middle;\n",
       "    }\n",
       "\n",
       "    .dataframe tbody tr th {\n",
       "        vertical-align: top;\n",
       "    }\n",
       "\n",
       "    .dataframe thead th {\n",
       "        text-align: right;\n",
       "    }\n",
       "</style>\n",
       "<table border=\"1\" class=\"dataframe\">\n",
       "  <thead>\n",
       "    <tr style=\"text-align: right;\">\n",
       "      <th></th>\n",
       "      <th>target</th>\n",
       "      <th>48df886f9</th>\n",
       "      <th>0deb4b6a8</th>\n",
       "      <th>34b15f335</th>\n",
       "      <th>a8cb14b00</th>\n",
       "      <th>2f0771a37</th>\n",
       "      <th>30347e683</th>\n",
       "      <th>d08d1fbe3</th>\n",
       "      <th>6ee66e115</th>\n",
       "      <th>20aa07010</th>\n",
       "      <th>...</th>\n",
       "      <th>3ecc09859</th>\n",
       "      <th>9281abeea</th>\n",
       "      <th>8675bec0b</th>\n",
       "      <th>3a13ed79a</th>\n",
       "      <th>f677d4d13</th>\n",
       "      <th>71b203550</th>\n",
       "      <th>137efaa80</th>\n",
       "      <th>fb36b89d9</th>\n",
       "      <th>7e293fbaf</th>\n",
       "      <th>9fc776466</th>\n",
       "    </tr>\n",
       "  </thead>\n",
       "  <tbody>\n",
       "    <tr>\n",
       "      <td>count</td>\n",
       "      <td>4459.000</td>\n",
       "      <td>4459.000</td>\n",
       "      <td>4459.000</td>\n",
       "      <td>4459.000</td>\n",
       "      <td>4459.000</td>\n",
       "      <td>4459.000</td>\n",
       "      <td>4459.000</td>\n",
       "      <td>4459.000</td>\n",
       "      <td>4459.000</td>\n",
       "      <td>4459.000</td>\n",
       "      <td>...</td>\n",
       "      <td>4459.000</td>\n",
       "      <td>4459.000</td>\n",
       "      <td>4459.000</td>\n",
       "      <td>4459.000</td>\n",
       "      <td>4459.000</td>\n",
       "      <td>4459.000</td>\n",
       "      <td>4459.000</td>\n",
       "      <td>4459.000</td>\n",
       "      <td>4459.000</td>\n",
       "      <td>4459.000</td>\n",
       "    </tr>\n",
       "    <tr>\n",
       "      <td>mean</td>\n",
       "      <td>5944940.500</td>\n",
       "      <td>14654.930</td>\n",
       "      <td>1390.895</td>\n",
       "      <td>26722.451</td>\n",
       "      <td>4530.164</td>\n",
       "      <td>26409.957</td>\n",
       "      <td>30708.106</td>\n",
       "      <td>16865.216</td>\n",
       "      <td>4669.208</td>\n",
       "      <td>2569405.500</td>\n",
       "      <td>...</td>\n",
       "      <td>467605.688</td>\n",
       "      <td>444623.875</td>\n",
       "      <td>805621.625</td>\n",
       "      <td>781296.636</td>\n",
       "      <td>143.530</td>\n",
       "      <td>121380.933</td>\n",
       "      <td>35734.514</td>\n",
       "      <td>312374.075</td>\n",
       "      <td>92199.596</td>\n",
       "      <td>227909.956</td>\n",
       "    </tr>\n",
       "    <tr>\n",
       "      <td>std</td>\n",
       "      <td>8234321.000</td>\n",
       "      <td>389316.281</td>\n",
       "      <td>64283.024</td>\n",
       "      <td>569976.250</td>\n",
       "      <td>235912.407</td>\n",
       "      <td>1514730.151</td>\n",
       "      <td>577058.975</td>\n",
       "      <td>751275.594</td>\n",
       "      <td>187944.888</td>\n",
       "      <td>9610130.000</td>\n",
       "      <td>...</td>\n",
       "      <td>4068025.500</td>\n",
       "      <td>4428877.000</td>\n",
       "      <td>4513256.500</td>\n",
       "      <td>6839450.755</td>\n",
       "      <td>9584.319</td>\n",
       "      <td>4720708.533</td>\n",
       "      <td>1614622.198</td>\n",
       "      <td>4318500.708</td>\n",
       "      <td>1635993.425</td>\n",
       "      <td>1811139.277</td>\n",
       "    </tr>\n",
       "    <tr>\n",
       "      <td>min</td>\n",
       "      <td>30000.000</td>\n",
       "      <td>0.000</td>\n",
       "      <td>0.000</td>\n",
       "      <td>0.000</td>\n",
       "      <td>0.000</td>\n",
       "      <td>0.000</td>\n",
       "      <td>0.000</td>\n",
       "      <td>0.000</td>\n",
       "      <td>0.000</td>\n",
       "      <td>0.000</td>\n",
       "      <td>...</td>\n",
       "      <td>0.000</td>\n",
       "      <td>0.000</td>\n",
       "      <td>0.000</td>\n",
       "      <td>0.000</td>\n",
       "      <td>0.000</td>\n",
       "      <td>0.000</td>\n",
       "      <td>0.000</td>\n",
       "      <td>0.000</td>\n",
       "      <td>0.000</td>\n",
       "      <td>0.000</td>\n",
       "    </tr>\n",
       "    <tr>\n",
       "      <td>25%</td>\n",
       "      <td>600000.000</td>\n",
       "      <td>0.000</td>\n",
       "      <td>0.000</td>\n",
       "      <td>0.000</td>\n",
       "      <td>0.000</td>\n",
       "      <td>0.000</td>\n",
       "      <td>0.000</td>\n",
       "      <td>0.000</td>\n",
       "      <td>0.000</td>\n",
       "      <td>0.000</td>\n",
       "      <td>...</td>\n",
       "      <td>0.000</td>\n",
       "      <td>0.000</td>\n",
       "      <td>0.000</td>\n",
       "      <td>0.000</td>\n",
       "      <td>0.000</td>\n",
       "      <td>0.000</td>\n",
       "      <td>0.000</td>\n",
       "      <td>0.000</td>\n",
       "      <td>0.000</td>\n",
       "      <td>0.000</td>\n",
       "    </tr>\n",
       "    <tr>\n",
       "      <td>50%</td>\n",
       "      <td>2260000.000</td>\n",
       "      <td>0.000</td>\n",
       "      <td>0.000</td>\n",
       "      <td>0.000</td>\n",
       "      <td>0.000</td>\n",
       "      <td>0.000</td>\n",
       "      <td>0.000</td>\n",
       "      <td>0.000</td>\n",
       "      <td>0.000</td>\n",
       "      <td>0.000</td>\n",
       "      <td>...</td>\n",
       "      <td>0.000</td>\n",
       "      <td>0.000</td>\n",
       "      <td>0.000</td>\n",
       "      <td>0.000</td>\n",
       "      <td>0.000</td>\n",
       "      <td>0.000</td>\n",
       "      <td>0.000</td>\n",
       "      <td>0.000</td>\n",
       "      <td>0.000</td>\n",
       "      <td>0.000</td>\n",
       "    </tr>\n",
       "    <tr>\n",
       "      <td>75%</td>\n",
       "      <td>8000000.000</td>\n",
       "      <td>0.000</td>\n",
       "      <td>0.000</td>\n",
       "      <td>0.000</td>\n",
       "      <td>0.000</td>\n",
       "      <td>0.000</td>\n",
       "      <td>0.000</td>\n",
       "      <td>0.000</td>\n",
       "      <td>0.000</td>\n",
       "      <td>600000.000</td>\n",
       "      <td>...</td>\n",
       "      <td>0.000</td>\n",
       "      <td>0.000</td>\n",
       "      <td>0.000</td>\n",
       "      <td>0.000</td>\n",
       "      <td>0.000</td>\n",
       "      <td>0.000</td>\n",
       "      <td>0.000</td>\n",
       "      <td>0.000</td>\n",
       "      <td>0.000</td>\n",
       "      <td>0.000</td>\n",
       "    </tr>\n",
       "    <tr>\n",
       "      <td>max</td>\n",
       "      <td>40000000.000</td>\n",
       "      <td>20000000.000</td>\n",
       "      <td>4000000.000</td>\n",
       "      <td>20000000.000</td>\n",
       "      <td>14800000.000</td>\n",
       "      <td>100000000.000</td>\n",
       "      <td>20708000.000</td>\n",
       "      <td>40000000.000</td>\n",
       "      <td>10400000.000</td>\n",
       "      <td>319612000.000</td>\n",
       "      <td>...</td>\n",
       "      <td>76000000.000</td>\n",
       "      <td>123588000.000</td>\n",
       "      <td>130000000.000</td>\n",
       "      <td>144400000.000</td>\n",
       "      <td>640000.000</td>\n",
       "      <td>301312000.000</td>\n",
       "      <td>106420000.000</td>\n",
       "      <td>140000000.000</td>\n",
       "      <td>61768000.000</td>\n",
       "      <td>43200000.000</td>\n",
       "    </tr>\n",
       "  </tbody>\n",
       "</table>\n",
       "<p>8 rows × 4992 columns</p>\n",
       "</div>"
      ],
      "text/plain": [
       "            target    48df886f9   0deb4b6a8    34b15f335    a8cb14b00  \\\n",
       "count     4459.000     4459.000    4459.000     4459.000     4459.000   \n",
       "mean   5944940.500    14654.930    1390.895    26722.451     4530.164   \n",
       "std    8234321.000   389316.281   64283.024   569976.250   235912.407   \n",
       "min      30000.000        0.000       0.000        0.000        0.000   \n",
       "25%     600000.000        0.000       0.000        0.000        0.000   \n",
       "50%    2260000.000        0.000       0.000        0.000        0.000   \n",
       "75%    8000000.000        0.000       0.000        0.000        0.000   \n",
       "max   40000000.000 20000000.000 4000000.000 20000000.000 14800000.000   \n",
       "\n",
       "          2f0771a37    30347e683    d08d1fbe3    6ee66e115     20aa07010  ...  \\\n",
       "count      4459.000     4459.000     4459.000     4459.000      4459.000  ...   \n",
       "mean      26409.957    30708.106    16865.216     4669.208   2569405.500  ...   \n",
       "std     1514730.151   577058.975   751275.594   187944.888   9610130.000  ...   \n",
       "min           0.000        0.000        0.000        0.000         0.000  ...   \n",
       "25%           0.000        0.000        0.000        0.000         0.000  ...   \n",
       "50%           0.000        0.000        0.000        0.000         0.000  ...   \n",
       "75%           0.000        0.000        0.000        0.000    600000.000  ...   \n",
       "max   100000000.000 20708000.000 40000000.000 10400000.000 319612000.000  ...   \n",
       "\n",
       "         3ecc09859     9281abeea     8675bec0b     3a13ed79a  f677d4d13  \\\n",
       "count     4459.000      4459.000      4459.000      4459.000   4459.000   \n",
       "mean    467605.688    444623.875    805621.625    781296.636    143.530   \n",
       "std    4068025.500   4428877.000   4513256.500   6839450.755   9584.319   \n",
       "min          0.000         0.000         0.000         0.000      0.000   \n",
       "25%          0.000         0.000         0.000         0.000      0.000   \n",
       "50%          0.000         0.000         0.000         0.000      0.000   \n",
       "75%          0.000         0.000         0.000         0.000      0.000   \n",
       "max   76000000.000 123588000.000 130000000.000 144400000.000 640000.000   \n",
       "\n",
       "          71b203550     137efaa80     fb36b89d9    7e293fbaf    9fc776466  \n",
       "count      4459.000      4459.000      4459.000     4459.000     4459.000  \n",
       "mean     121380.933     35734.514    312374.075    92199.596   227909.956  \n",
       "std     4720708.533   1614622.198   4318500.708  1635993.425  1811139.277  \n",
       "min           0.000         0.000         0.000        0.000        0.000  \n",
       "25%           0.000         0.000         0.000        0.000        0.000  \n",
       "50%           0.000         0.000         0.000        0.000        0.000  \n",
       "75%           0.000         0.000         0.000        0.000        0.000  \n",
       "max   301312000.000 106420000.000 140000000.000 61768000.000 43200000.000  \n",
       "\n",
       "[8 rows x 4992 columns]"
      ]
     },
     "execution_count": 10,
     "metadata": {},
     "output_type": "execute_result"
    }
   ],
   "source": [
    "train.describe()"
   ]
  },
  {
   "cell_type": "markdown",
   "metadata": {},
   "source": [
    "A quick look at the data statistics reveals just how sparse the data is. All features in this matrix have a minimum value of 0 with most having maximum values in the millions. Due to these zero values, we are not getting a true representation of the data statistics. The following script replaces the zeros with NaN values and runs the same describe method."
   ]
  },
  {
   "cell_type": "code",
   "execution_count": 11,
   "metadata": {},
   "outputs": [
    {
     "data": {
      "text/html": [
       "<div>\n",
       "<style scoped>\n",
       "    .dataframe tbody tr th:only-of-type {\n",
       "        vertical-align: middle;\n",
       "    }\n",
       "\n",
       "    .dataframe tbody tr th {\n",
       "        vertical-align: top;\n",
       "    }\n",
       "\n",
       "    .dataframe thead th {\n",
       "        text-align: right;\n",
       "    }\n",
       "</style>\n",
       "<table border=\"1\" class=\"dataframe\">\n",
       "  <thead>\n",
       "    <tr style=\"text-align: right;\">\n",
       "      <th></th>\n",
       "      <th>target</th>\n",
       "      <th>48df886f9</th>\n",
       "      <th>0deb4b6a8</th>\n",
       "      <th>34b15f335</th>\n",
       "      <th>a8cb14b00</th>\n",
       "      <th>2f0771a37</th>\n",
       "      <th>30347e683</th>\n",
       "      <th>d08d1fbe3</th>\n",
       "      <th>6ee66e115</th>\n",
       "      <th>20aa07010</th>\n",
       "      <th>...</th>\n",
       "      <th>3ecc09859</th>\n",
       "      <th>9281abeea</th>\n",
       "      <th>8675bec0b</th>\n",
       "      <th>3a13ed79a</th>\n",
       "      <th>f677d4d13</th>\n",
       "      <th>71b203550</th>\n",
       "      <th>137efaa80</th>\n",
       "      <th>fb36b89d9</th>\n",
       "      <th>7e293fbaf</th>\n",
       "      <th>9fc776466</th>\n",
       "    </tr>\n",
       "  </thead>\n",
       "  <tbody>\n",
       "    <tr>\n",
       "      <td>count</td>\n",
       "      <td>4459.000</td>\n",
       "      <td>39.000</td>\n",
       "      <td>4.000</td>\n",
       "      <td>33.000</td>\n",
       "      <td>2.000</td>\n",
       "      <td>5.000</td>\n",
       "      <td>47.000</td>\n",
       "      <td>5.000</td>\n",
       "      <td>5.000</td>\n",
       "      <td>1494.000</td>\n",
       "      <td>...</td>\n",
       "      <td>291.000</td>\n",
       "      <td>185.000</td>\n",
       "      <td>693.000</td>\n",
       "      <td>165.000</td>\n",
       "      <td>1.000</td>\n",
       "      <td>35.000</td>\n",
       "      <td>18.000</td>\n",
       "      <td>34.000</td>\n",
       "      <td>80.000</td>\n",
       "      <td>163.000</td>\n",
       "    </tr>\n",
       "    <tr>\n",
       "      <td>mean</td>\n",
       "      <td>5944940.500</td>\n",
       "      <td>1675547.000</td>\n",
       "      <td>1550500.000</td>\n",
       "      <td>3610770.000</td>\n",
       "      <td>10100000.000</td>\n",
       "      <td>23552400.000</td>\n",
       "      <td>2913349.872</td>\n",
       "      <td>15040400.000</td>\n",
       "      <td>4164000.000</td>\n",
       "      <td>7668660.500</td>\n",
       "      <td>...</td>\n",
       "      <td>7165133.000</td>\n",
       "      <td>10716637.000</td>\n",
       "      <td>5183646.000</td>\n",
       "      <td>21113949.697</td>\n",
       "      <td>640000.000</td>\n",
       "      <td>15463930.914</td>\n",
       "      <td>8852233.333</td>\n",
       "      <td>40966941.176</td>\n",
       "      <td>5138975.000</td>\n",
       "      <td>6234665.607</td>\n",
       "    </tr>\n",
       "    <tr>\n",
       "      <td>std</td>\n",
       "      <td>8234321.000</td>\n",
       "      <td>3863460.000</td>\n",
       "      <td>1714083.915</td>\n",
       "      <td>5649028.000</td>\n",
       "      <td>6646803.743</td>\n",
       "      <td>43179858.416</td>\n",
       "      <td>4867344.886</td>\n",
       "      <td>18616943.165</td>\n",
       "      <td>4209332.489</td>\n",
       "      <td>15383016.000</td>\n",
       "      <td>...</td>\n",
       "      <td>14361149.000</td>\n",
       "      <td>19093432.000</td>\n",
       "      <td>10416169.000</td>\n",
       "      <td>28976628.398</td>\n",
       "      <td>nan</td>\n",
       "      <td>51746827.797</td>\n",
       "      <td>24515547.162</td>\n",
       "      <td>28344455.937</td>\n",
       "      <td>11170090.633</td>\n",
       "      <td>7251597.015</td>\n",
       "    </tr>\n",
       "    <tr>\n",
       "      <td>min</td>\n",
       "      <td>30000.000</td>\n",
       "      <td>28000.000</td>\n",
       "      <td>6000.000</td>\n",
       "      <td>30000.000</td>\n",
       "      <td>5400000.000</td>\n",
       "      <td>54000.000</td>\n",
       "      <td>144000.000</td>\n",
       "      <td>6000.000</td>\n",
       "      <td>600000.000</td>\n",
       "      <td>2000.000</td>\n",
       "      <td>...</td>\n",
       "      <td>2000.000</td>\n",
       "      <td>8000.000</td>\n",
       "      <td>2000.000</td>\n",
       "      <td>2208.000</td>\n",
       "      <td>640000.000</td>\n",
       "      <td>50000.000</td>\n",
       "      <td>40000.000</td>\n",
       "      <td>170000.000</td>\n",
       "      <td>20000.000</td>\n",
       "      <td>5348.000</td>\n",
       "    </tr>\n",
       "    <tr>\n",
       "      <td>25%</td>\n",
       "      <td>600000.000</td>\n",
       "      <td>115000.000</td>\n",
       "      <td>751500.000</td>\n",
       "      <td>120000.000</td>\n",
       "      <td>7750000.000</td>\n",
       "      <td>148000.000</td>\n",
       "      <td>500000.000</td>\n",
       "      <td>1196000.000</td>\n",
       "      <td>1220000.000</td>\n",
       "      <td>583250.000</td>\n",
       "      <td>...</td>\n",
       "      <td>235000.000</td>\n",
       "      <td>400000.000</td>\n",
       "      <td>600000.000</td>\n",
       "      <td>1100000.000</td>\n",
       "      <td>640000.000</td>\n",
       "      <td>300000.000</td>\n",
       "      <td>840550.000</td>\n",
       "      <td>20000000.000</td>\n",
       "      <td>600000.000</td>\n",
       "      <td>400000.000</td>\n",
       "    </tr>\n",
       "    <tr>\n",
       "      <td>50%</td>\n",
       "      <td>2260000.000</td>\n",
       "      <td>280000.000</td>\n",
       "      <td>1098000.000</td>\n",
       "      <td>1070000.000</td>\n",
       "      <td>10100000.000</td>\n",
       "      <td>2560000.000</td>\n",
       "      <td>840000.000</td>\n",
       "      <td>4000000.000</td>\n",
       "      <td>2000000.000</td>\n",
       "      <td>2200000.000</td>\n",
       "      <td>...</td>\n",
       "      <td>1674000.000</td>\n",
       "      <td>2043000.000</td>\n",
       "      <td>2134666.750</td>\n",
       "      <td>6982400.000</td>\n",
       "      <td>640000.000</td>\n",
       "      <td>1116000.000</td>\n",
       "      <td>3420000.000</td>\n",
       "      <td>50000000.000</td>\n",
       "      <td>3000000.000</td>\n",
       "      <td>2800000.000</td>\n",
       "    </tr>\n",
       "    <tr>\n",
       "      <td>75%</td>\n",
       "      <td>8000000.000</td>\n",
       "      <td>650000.000</td>\n",
       "      <td>1897000.000</td>\n",
       "      <td>5000000.000</td>\n",
       "      <td>12450000.000</td>\n",
       "      <td>15000000.000</td>\n",
       "      <td>1630000.000</td>\n",
       "      <td>30000000.000</td>\n",
       "      <td>6600000.000</td>\n",
       "      <td>8000000.000</td>\n",
       "      <td>...</td>\n",
       "      <td>10000000.000</td>\n",
       "      <td>12800000.000</td>\n",
       "      <td>4840000.000</td>\n",
       "      <td>40770000.000</td>\n",
       "      <td>640000.000</td>\n",
       "      <td>8550000.000</td>\n",
       "      <td>3420000.000</td>\n",
       "      <td>50000000.000</td>\n",
       "      <td>3000000.000</td>\n",
       "      <td>12152500.000</td>\n",
       "    </tr>\n",
       "    <tr>\n",
       "      <td>max</td>\n",
       "      <td>40000000.000</td>\n",
       "      <td>20000000.000</td>\n",
       "      <td>4000000.000</td>\n",
       "      <td>20000000.000</td>\n",
       "      <td>14800000.000</td>\n",
       "      <td>100000000.000</td>\n",
       "      <td>20708000.000</td>\n",
       "      <td>40000000.000</td>\n",
       "      <td>10400000.000</td>\n",
       "      <td>319612000.000</td>\n",
       "      <td>...</td>\n",
       "      <td>76000000.000</td>\n",
       "      <td>123588000.000</td>\n",
       "      <td>130000000.000</td>\n",
       "      <td>144400000.000</td>\n",
       "      <td>640000.000</td>\n",
       "      <td>301312000.000</td>\n",
       "      <td>106420000.000</td>\n",
       "      <td>140000000.000</td>\n",
       "      <td>61768000.000</td>\n",
       "      <td>43200000.000</td>\n",
       "    </tr>\n",
       "  </tbody>\n",
       "</table>\n",
       "<p>8 rows × 4992 columns</p>\n",
       "</div>"
      ],
      "text/plain": [
       "            target    48df886f9   0deb4b6a8    34b15f335    a8cb14b00  \\\n",
       "count     4459.000       39.000       4.000       33.000        2.000   \n",
       "mean   5944940.500  1675547.000 1550500.000  3610770.000 10100000.000   \n",
       "std    8234321.000  3863460.000 1714083.915  5649028.000  6646803.743   \n",
       "min      30000.000    28000.000    6000.000    30000.000  5400000.000   \n",
       "25%     600000.000   115000.000  751500.000   120000.000  7750000.000   \n",
       "50%    2260000.000   280000.000 1098000.000  1070000.000 10100000.000   \n",
       "75%    8000000.000   650000.000 1897000.000  5000000.000 12450000.000   \n",
       "max   40000000.000 20000000.000 4000000.000 20000000.000 14800000.000   \n",
       "\n",
       "          2f0771a37    30347e683    d08d1fbe3    6ee66e115     20aa07010  ...  \\\n",
       "count         5.000       47.000        5.000        5.000      1494.000  ...   \n",
       "mean   23552400.000  2913349.872 15040400.000  4164000.000   7668660.500  ...   \n",
       "std    43179858.416  4867344.886 18616943.165  4209332.489  15383016.000  ...   \n",
       "min       54000.000   144000.000     6000.000   600000.000      2000.000  ...   \n",
       "25%      148000.000   500000.000  1196000.000  1220000.000    583250.000  ...   \n",
       "50%     2560000.000   840000.000  4000000.000  2000000.000   2200000.000  ...   \n",
       "75%    15000000.000  1630000.000 30000000.000  6600000.000   8000000.000  ...   \n",
       "max   100000000.000 20708000.000 40000000.000 10400000.000 319612000.000  ...   \n",
       "\n",
       "         3ecc09859     9281abeea     8675bec0b     3a13ed79a  f677d4d13  \\\n",
       "count      291.000       185.000       693.000       165.000      1.000   \n",
       "mean   7165133.000  10716637.000   5183646.000  21113949.697 640000.000   \n",
       "std   14361149.000  19093432.000  10416169.000  28976628.398        nan   \n",
       "min       2000.000      8000.000      2000.000      2208.000 640000.000   \n",
       "25%     235000.000    400000.000    600000.000   1100000.000 640000.000   \n",
       "50%    1674000.000   2043000.000   2134666.750   6982400.000 640000.000   \n",
       "75%   10000000.000  12800000.000   4840000.000  40770000.000 640000.000   \n",
       "max   76000000.000 123588000.000 130000000.000 144400000.000 640000.000   \n",
       "\n",
       "          71b203550     137efaa80     fb36b89d9    7e293fbaf    9fc776466  \n",
       "count        35.000        18.000        34.000       80.000      163.000  \n",
       "mean   15463930.914   8852233.333  40966941.176  5138975.000  6234665.607  \n",
       "std    51746827.797  24515547.162  28344455.937 11170090.633  7251597.015  \n",
       "min       50000.000     40000.000    170000.000    20000.000     5348.000  \n",
       "25%      300000.000    840550.000  20000000.000   600000.000   400000.000  \n",
       "50%     1116000.000   3420000.000  50000000.000  3000000.000  2800000.000  \n",
       "75%     8550000.000   3420000.000  50000000.000  3000000.000 12152500.000  \n",
       "max   301312000.000 106420000.000 140000000.000 61768000.000 43200000.000  \n",
       "\n",
       "[8 rows x 4992 columns]"
      ]
     },
     "execution_count": 11,
     "metadata": {},
     "output_type": "execute_result"
    }
   ],
   "source": [
    "train_no_zero = train.replace([0, 0.0], np.NAN)\n",
    "train_no_zero.describe()"
   ]
  },
  {
   "cell_type": "markdown",
   "metadata": {},
   "source": [
    "With the zero values removed, we can see just how spread the data is. The standard deviations of most features are extremely large. I suspect highly skewed features."
   ]
  },
  {
   "cell_type": "code",
   "execution_count": 12,
   "metadata": {},
   "outputs": [
    {
     "data": {
      "image/png": "[encoded data removed]",
      "text/plain": [
       "<Figure size 1296x648 with 1 Axes>"
      ]
     },
     "metadata": {
      "needs_background": "light"
     },
     "output_type": "display_data"
    }
   ],
   "source": [
    "num_cols = train_no_zero.iloc[:, :50].columns\n",
    "fig,ax = plt.subplots(1)\n",
    "fig.set_size_inches(18, 9)\n",
    "\n",
    "train_no_zero[num_cols].boxplot()\n",
    "ax.set_xticklabels([])\n",
    "plt.xlabel('Features')\n",
    "plt.title('First 50 feature distributions', Fontsize=30)\n",
    "plt.show()"
   ]
  },
  {
   "cell_type": "markdown",
   "metadata": {},
   "source": [
    "A visual examination of the graph above reveals a large number of features have extremely large outliers causing skew. I would recommend a testing whether a log transformation would produce better results. We can also see, now that the zero values have been removed, some features don't have any non-zero values at all. These features will have to be removed before training as they are useless features."
   ]
  },
  {
   "cell_type": "markdown",
   "metadata": {},
   "source": [
    "### Missing Values"
   ]
  },
  {
   "cell_type": "code",
   "execution_count": 13,
   "metadata": {},
   "outputs": [
    {
     "name": "stdout",
     "output_type": "stream",
     "text": [
      "0 contain missing values in the target data\n",
      "0 out of 4993 columns contain missing values in the predictor data\n",
      "0 out of 4992 columns contain missing values in the test data\n"
     ]
    }
   ],
   "source": [
    "y_na = train['target'].isna().any().sum()\n",
    "X_na = train.isna().any().sum()\n",
    "test_na = test.isna().any().sum()\n",
    "print(f'{y_na} contain missing values in the target data')\n",
    "print(f'{X_na} out of {len(train.columns)} columns contain missing values in the predictor data')\n",
    "print(f'{test_na} out of {len(test.columns)} columns contain missing values in the test data')"
   ]
  },
  {
   "cell_type": "markdown",
   "metadata": {},
   "source": [
    "From this, we can conclude there is not missing values meaning not data imputation will be needed.\n",
    "\n",
    "Next, we will explore the features more in-depth."
   ]
  },
  {
   "cell_type": "markdown",
   "metadata": {},
   "source": [
    "### Target"
   ]
  },
  {
   "cell_type": "code",
   "execution_count": 14,
   "metadata": {},
   "outputs": [
    {
     "name": "stdout",
     "output_type": "stream",
     "text": [
      "Target minimum & maximum values: 30000.0 & 40000000.0\n"
     ]
    }
   ],
   "source": [
    "print(f'Target minimum & maximum values: {np.min(train[\"target\"])} & {np.max(train[\"target\"])}')"
   ]
  },
  {
   "cell_type": "code",
   "execution_count": 15,
   "metadata": {},
   "outputs": [
    {
     "data": {
      "image/png": "[encoded data removed]",
      "text/plain": [
       "<Figure size 1080x216 with 2 Axes>"
      ]
     },
     "metadata": {
      "needs_background": "light"
     },
     "output_type": "display_data"
    }
   ],
   "source": [
    "# 'TransactionAmt' feature\n",
    "fig, (ax1, ax2) = plt.subplots(1, 2, figsize=(15, 3))\n",
    "\n",
    "# No log\n",
    "ax1.title.set_text('Tagret distribution')\n",
    "ax1.set_xlabel('Target')\n",
    "ax1.set_ylabel('Number of occuraces')\n",
    "_ = ax1.hist(train['target'], bins=100)\n",
    "\n",
    "# Log\n",
    "ax2.title.set_text('log Tagret distribution')\n",
    "ax2.set_xlabel('Target')\n",
    "ax2.set_ylabel('Number of occuraces')\n",
    "_ = ax2.hist(np.log(train['target']), bins=100)"
   ]
  },
  {
   "cell_type": "markdown",
   "metadata": {},
   "source": [
    "After a log transformation, we see a flat distribution occuring with larget peaks between 12 and 17."
   ]
  },
  {
   "cell_type": "markdown",
   "metadata": {},
   "source": [
    "### Target/feature correlation\n",
    "To get some idea of what features might contribute to predicting the target value, calculating the correlation between the target and all features will give us this insight."
   ]
  },
  {
   "cell_type": "code",
   "execution_count": 16,
   "metadata": {},
   "outputs": [
    {
     "name": "stdout",
     "output_type": "stream",
     "text": [
      "CPU times: user 5min 35s, sys: 92 ms, total: 5min 35s\n",
      "Wall time: 5min 36s\n"
     ]
    }
   ],
   "source": [
    "%%time\n",
    "target_corr = train[train.columns[1:]].corr()['target'][:].drop('target').dropna().sort_values()\n",
    "target_corr_no_zero = train_no_zero[train_no_zero.columns[1:]].corr()['target'][:].drop('target').dropna().sort_values()"
   ]
  },
  {
   "cell_type": "code",
   "execution_count": 17,
   "metadata": {},
   "outputs": [
    {
     "data": {
      "image/png": "[encoded data removed]",
      "text/plain": [
       "<Figure size 1080x216 with 2 Axes>"
      ]
     },
     "metadata": {
      "needs_background": "light"
     },
     "output_type": "display_data"
    }
   ],
   "source": [
    "fig, (ax1, ax2) = plt.subplots(1, 2, figsize=(15, 3))\n",
    "\n",
    "# Normal data\n",
    "ax1.title.set_text('Target vs feature correlation')\n",
    "ax1.set_xlabel('Features')\n",
    "ax1.set_ylabel('Correlation')\n",
    "ax1.set_xticklabels([])\n",
    "_ = ax1.plot(target_corr)\n",
    "\n",
    "# NaN's removed\n",
    "ax2.title.set_text('Target vs feature correlation')\n",
    "ax2.set_xlabel('Features')\n",
    "ax2.set_ylabel('Correlation')\n",
    "ax2.set_xticklabels([])\n",
    "_ = ax2.plot(target_corr_no_zero)"
   ]
  },
  {
   "cell_type": "code",
   "execution_count": 18,
   "metadata": {},
   "outputs": [
    {
     "name": "stdout",
     "output_type": "stream",
     "text": [
      "There are 385 features with high correlation\n"
     ]
    },
    {
     "data": {
      "text/plain": [
       "0"
      ]
     },
     "execution_count": 18,
     "metadata": {},
     "output_type": "execute_result"
    }
   ],
   "source": [
    "target_corr_no_zero_df = target_corr_no_zero.to_frame('corr')\n",
    "target_corr_no_zero_df = target_corr_no_zero_df.where(\n",
    "    (target_corr_no_zero_df['corr'] > 0.75) | (target_corr_no_zero_df['corr'] < -0.75)\n",
    ").dropna()\n",
    "\n",
    "print(f'There are {len(target_corr_no_zero_df.index)} features with high correlation')\n",
    "\n",
    "del target_corr, target_corr_no_zero\n",
    "gc.collect()"
   ]
  },
  {
   "cell_type": "markdown",
   "metadata": {},
   "source": [
    "We can see from the graphs above there are a large number of features that are highly correlated to the target. The features that are 75% correlated should be isolated and trained separately to see whether they improve the model."
   ]
  },
  {
   "cell_type": "markdown",
   "metadata": {},
   "source": [
    "## Feature Engineering\n",
    "We also want to remove any useless features. Features that are constant do not offer anything to the model."
   ]
  },
  {
   "cell_type": "code",
   "execution_count": 19,
   "metadata": {},
   "outputs": [
    {
     "name": "stdout",
     "output_type": "stream",
     "text": [
      "Removed 256 Constant Columns\n",
      "\n"
     ]
    }
   ],
   "source": [
    "# Removes features containing constant values\n",
    "y = train['target'].copy()\n",
    "train = train.drop(['target','ID'], axis=1)\n",
    "\n",
    "feat_to_remove = []\n",
    "for feat in train.columns:\n",
    "    if len(train[feat].unique()) == 1:\n",
    "        feat_to_remove.append(feat)\n",
    "        \n",
    "train.drop(feat_to_remove, axis=1, inplace=True)\n",
    "\n",
    "test.drop(feat_to_remove, axis=1, inplace=True)\n",
    "\n",
    "print(f'Removed {len(feat_to_remove)} Constant Columns\\n')"
   ]
  },
  {
   "cell_type": "markdown",
   "metadata": {},
   "source": [
    "#### Mean Smoothing\n",
    "As we do not know the nature of the data due to its anonymity, mean smoothing may not be a meaningful method of adding value to the model. However, this data could be over a certain period. I have decided to smooth along the x-axis over a 3, 6, 12, 7 and 30 bin period to represent 3 months, 6 months, 12 months, 7 days and 30 day period. See Building the Model section below to see results."
   ]
  },
  {
   "cell_type": "code",
   "execution_count": 20,
   "metadata": {},
   "outputs": [],
   "source": [
    "## 3 month period\n",
    "train_3_period_smooth = train.rolling(3,axis=1).mean()\n",
    "\n",
    "## 6 month period\n",
    "train_6_period_smooth = train.rolling(6,axis=1).mean()\n",
    "\n",
    "## 12 month period\n",
    "train_12_period_smooth = train.rolling(12,axis=1).mean()\n",
    "\n",
    "\n",
    "## 7-day period\n",
    "train_7_period_smooth = train.rolling(7,axis=1).mean()\n",
    "\n",
    "## 30-day period\n",
    "train_30_period_smooth = train.rolling(30,axis=1).mean()"
   ]
  },
  {
   "cell_type": "markdown",
   "metadata": {},
   "source": [
    "#### Truncation\n",
    "Due to the sparsity of this data, I believe it could be over a certain period. We explored mean smoothing above, however, what if this data is a month by month or week by week structure. Below I have binned the data along the x-axis in groups of 3, 6, 12, 7 and 30 to represent 3 months, 6 months, 12 months, 7 days and 30 day period. See Building the Model section down below for results."
   ]
  },
  {
   "cell_type": "code",
   "execution_count": 21,
   "metadata": {},
   "outputs": [],
   "source": [
    "def Truncate(df, period):\n",
    "    i = period\n",
    "    trunc_train = pd.DataFrame()\n",
    "    while i < len(df.columns):\n",
    "        col_name =  str(i + 1 - period) + ' - ' + str(i)\n",
    "        trunc_train[col_name] = df.iloc[:, i-period:i].sum(axis=1)\n",
    "        i += period\n",
    "    \n",
    "    col_name =  str(i + 1 - period) + ' - ' + str(len(df.columns))\n",
    "    trunc_train[col_name] = df.iloc[:, i-period:len(df.columns)].sum(axis=1)\n",
    "    \n",
    "    return trunc_train"
   ]
  },
  {
   "cell_type": "code",
   "execution_count": 22,
   "metadata": {},
   "outputs": [],
   "source": [
    "## 3 month period\n",
    "train_3_period_sum = Truncate(train, 3)\n",
    "## 6 month period\n",
    "train_6_period_sum = Truncate(train, 6)\n",
    "## 12 month period\n",
    "train_12_period_sum = Truncate(train, 12)\n",
    "\n",
    "## 7 day period\n",
    "train_7_period_sum = Truncate(train, 7)\n",
    "## 30 day period\n",
    "train_30_period_sum = Truncate(train, 30)"
   ]
  },
  {
   "cell_type": "markdown",
   "metadata": {},
   "source": [
    "## Feature Selection"
   ]
  },
  {
   "cell_type": "markdown",
   "metadata": {},
   "source": [
    "Before we can do any sort of analysis, we need to separate your target from our features. We also want to log transform our target to acquire a normal distribution."
   ]
  },
  {
   "cell_type": "code",
   "execution_count": 23,
   "metadata": {},
   "outputs": [
    {
     "data": {
      "text/plain": [
       "0"
      ]
     },
     "execution_count": 23,
     "metadata": {},
     "output_type": "execute_result"
    }
   ],
   "source": [
    "## Preparing training data\n",
    "X = train\n",
    "y = np.log1p(y)\n",
    "\n",
    "# Preparing non-zero training data\n",
    "X_corr = train[target_corr_no_zero_df.index]\n",
    "y_corr = np.log1p(y)\n",
    "\n",
    "## Preparing log(feature) training data\n",
    "X_log = np.log1p(train)\n",
    "y_log = np.log1p(y)\n",
    "\n",
    "## Preparing mean smoothing training data\n",
    "X_3mms = train_3_period_smooth\n",
    "y_3mms = np.log1p(y)\n",
    "X_6mms = train_6_period_smooth\n",
    "y_6mms = np.log1p(y)\n",
    "X_12mms = train_12_period_smooth\n",
    "y_12mms = np.log1p(y)\n",
    "\n",
    "X_7dms = train_7_period_smooth\n",
    "y_7dms = np.log1p(y)\n",
    "X_30dms = train_30_period_smooth\n",
    "y_30dms = np.log1p(y)\n",
    "\n",
    "## Preparing sum truncation training data\n",
    "X_3m_sum = train_3_period_sum\n",
    "y_3m_sum = np.log1p(y)\n",
    "X_6m_sum = train_6_period_sum\n",
    "y_6m_sum = np.log1p(y)\n",
    "X_12m_sum = train_12_period_sum\n",
    "y_12m_sum = np.log1p(y)\n",
    "\n",
    "X_7d_sum = train_7_period_sum\n",
    "y_7d_sum = np.log1p(y)\n",
    "X_30d_sum = train_30_period_sum\n",
    "y_30d_sum = np.log1p(y)\n",
    "\n",
    "## Preparing test data\n",
    "test = test.drop([\"ID\"], axis=1)\n",
    "\n",
    "\n",
    "del train, train_no_zero, train_3_period_smooth, train_6_period_smooth, train_12_period_smooth, train_7_period_smooth,\n",
    "train_30_period_smooth, train_3_period_sum, train_6_period_sum, train_12_period_sum, train_7_period_sum, \n",
    "train_30_period_sum\n",
    "gc.collect()"
   ]
  },
  {
   "cell_type": "markdown",
   "metadata": {},
   "source": [
    "# Selecting the best model\n",
    "Now that our data is ready for analysis, we need to select which model is going to fit the data best. There are four algorithms that we will consider for this problem:\n",
    "1. KNN Regressor\n",
    "2. Decision Tree Regressor \n",
    "3. Random forest\n",
    "4. XGB"
   ]
  },
  {
   "cell_type": "code",
   "execution_count": 24,
   "metadata": {},
   "outputs": [],
   "source": [
    "X_train, X_test, y_train, y_test = train_test_split(\n",
    "    X, y, test_size=0.25, random_state=42)\n",
    "\n",
    "model_scores = {}"
   ]
  },
  {
   "cell_type": "markdown",
   "metadata": {},
   "source": [
    "### KNN Regressor"
   ]
  },
  {
   "cell_type": "code",
   "execution_count": 25,
   "metadata": {},
   "outputs": [],
   "source": [
    "kNNRegres = KNeighborsRegressor(n_jobs=-1).fit(X_train, y_train)\n",
    "model_scores['kNN'] = metrics.mean_squared_error(y_test, kNNRegres.predict(X_test))"
   ]
  },
  {
   "cell_type": "markdown",
   "metadata": {},
   "source": [
    "### Decision Tree Regressor"
   ]
  },
  {
   "cell_type": "code",
   "execution_count": 26,
   "metadata": {},
   "outputs": [],
   "source": [
    "dTreeRegres = DecisionTreeRegressor(random_state=42).fit(X_train, y_train)\n",
    "model_scores['Decision Tree'] = metrics.mean_squared_error(y_test, dTreeRegres.predict(X_test))"
   ]
  },
  {
   "cell_type": "markdown",
   "metadata": {},
   "source": [
    "### Random Forest Regressor"
   ]
  },
  {
   "cell_type": "code",
   "execution_count": 27,
   "metadata": {},
   "outputs": [
    {
     "name": "stderr",
     "output_type": "stream",
     "text": [
      "/opt/conda/lib/python3.6/site-packages/sklearn/ensemble/forest.py:245: FutureWarning: The default value of n_estimators will change from 10 in version 0.20 to 100 in 0.22.\n",
      "  \"10 in version 0.20 to 100 in 0.22.\", FutureWarning)\n"
     ]
    }
   ],
   "source": [
    "randForestRegres = RandomForestRegressor(random_state=42, n_jobs=-1).fit(X, y)\n",
    "model_scores['Random Forest'] = metrics.mean_squared_error(y_test, randForestRegres.predict(X_test))"
   ]
  },
  {
   "cell_type": "markdown",
   "metadata": {},
   "source": [
    "### XGBoost "
   ]
  },
  {
   "cell_type": "code",
   "execution_count": 28,
   "metadata": {},
   "outputs": [
    {
     "name": "stderr",
     "output_type": "stream",
     "text": [
      "/opt/conda/lib/python3.6/site-packages/xgboost/core.py:587: FutureWarning: Series.base is deprecated and will be removed in a future version\n",
      "  if getattr(data, 'base', None) is not None and \\\n"
     ]
    },
    {
     "name": "stdout",
     "output_type": "stream",
     "text": [
      "[04:54:57] WARNING: /workspace/src/objective/regression_obj.cu:152: reg:linear is now deprecated in favor of reg:squarederror.\n"
     ]
    }
   ],
   "source": [
    "xgbRegres = xgb.XGBRegressor(random_state=42, n_jobs=-1).fit(X_train, y_train)\n",
    "model_scores['XGBoost'] = metrics.mean_squared_error(y_test, xgbRegres.predict(X_test))"
   ]
  },
  {
   "cell_type": "markdown",
   "metadata": {},
   "source": [
    "### Plotting the results\n"
   ]
  },
  {
   "cell_type": "code",
   "execution_count": 29,
   "metadata": {},
   "outputs": [
    {
     "data": {
      "image/png": "[encoded data removed]",
      "text/plain": [
       "<Figure size 1368x648 with 1 Axes>"
      ]
     },
     "metadata": {
      "needs_background": "light"
     },
     "output_type": "display_data"
    },
    {
     "data": {
      "text/plain": [
       "2149"
      ]
     },
     "execution_count": 29,
     "metadata": {},
     "output_type": "execute_result"
    }
   ],
   "source": [
    "model_scores_df = pd.DataFrame(model_scores.values(), columns=['scores'], index=model_scores.keys())\n",
    "plt.figure(figsize=[19,9])\n",
    "plt.title('Model Scores')\n",
    "plt.ylabel('Mean Squared Error')\n",
    "plt.plot(model_scores_df)\n",
    "plt.show()\n",
    "\n",
    "gc.collect()"
   ]
  },
  {
   "cell_type": "markdown",
   "metadata": {},
   "source": [
    "A visual examination of this graph shows us that the Random Forest regressor has produced the lowest mean squared error out of all the models. The XGBoost algorithm has also performed very well. I shall explore both the Random Forest and XGBoost algorithms for predicting customer values using this data."
   ]
  },
  {
   "cell_type": "markdown",
   "metadata": {},
   "source": [
    "# Building the models\n",
    "## XGBoost: GridSearch with Cross-Validation\n",
    "To get the best XGB model possible, it is important to try a range of different parameters over the training data. Below is a grid search function that searches every combination between the three parameters provided to it, recording which is the best combination. The metric used for determining the best model is the RMSE."
   ]
  },
  {
   "cell_type": "code",
   "execution_count": 30,
   "metadata": {},
   "outputs": [],
   "source": [
    "def search_space(dic, cv):\n",
    "    combinations = 1\n",
    "    for values in dic.values():\n",
    "        combinations *= len(values)\n",
    "    combinations *= cv\n",
    "    print(f'Number of combinations: {combinations}')\n",
    "    print(f'With {cv} number of folds\\n')"
   ]
  },
  {
   "cell_type": "code",
   "execution_count": 31,
   "metadata": {},
   "outputs": [],
   "source": [
    "def to_dMatrix(X, y=None):\n",
    "    if y is None:\n",
    "        return xgb.DMatrix(X)\n",
    "    else:\n",
    "        return xgb.DMatrix(X, y)"
   ]
  },
  {
   "cell_type": "code",
   "execution_count": 32,
   "metadata": {},
   "outputs": [],
   "source": [
    "def create_eval_set(X_val, y_val):\n",
    "    return [(xgb.DMatrix(X_val, y_val), 'eval')]"
   ]
  },
  {
   "cell_type": "code",
   "execution_count": 33,
   "metadata": {},
   "outputs": [],
   "source": [
    "def GridSearch(hyperParams, train_df, target):\n",
    "    # GridSearch function can only support the exploration of 3 params in hyperParams\n",
    "    \n",
    "    best_score = np.inf\n",
    "    best_params = None\n",
    "    \n",
    "    n_folds = 3\n",
    "    folds = KFold(n_splits=n_folds, shuffle=True, random_state=42)\n",
    "\n",
    "    const_params = {\n",
    "        'objective': 'reg:squarederror',\n",
    "        'eta':0.01,\n",
    "        'eval_metric':'rmse',\n",
    "        'tree_method': 'gpu_hist'\n",
    "    }\n",
    "    \n",
    "#     Create iterable parameters\n",
    "    grid = ParameterGrid(hyperParams)\n",
    "    for hyper_params in grid:\n",
    "        \n",
    "#         Create dictionary of params \n",
    "        param1, param2, param3 = hyper_params.items()\n",
    "        current_params = {param1[0]: param1[1], param2[0]: param2[1], param3[0]: param3[1]}\n",
    "        \n",
    "#         print('##########################################################################\\n')\n",
    "#         print(f'Parameters being tested: {current_params}')\n",
    "\n",
    "#         Append param dictionary to model parameters\n",
    "        const_params.update(current_params)\n",
    "        \n",
    "        kfold_gs_score = 0\n",
    "        for train_index, test_index in folds.split(train_df):\n",
    "#             Seperate train/test data\n",
    "            train_X, train_y = train_df.loc[train_index], target[train_index]\n",
    "            test_X, test_y = train_df.loc[test_index], target[test_index]\n",
    "            \n",
    "#             Preparing the training data\n",
    "            eval_set_list = create_eval_set(test_X, test_y)\n",
    "            dMatTrain = to_dMatrix(train_X, train_y)\n",
    "            dMatTest = to_dMatrix(test_X)           \n",
    "            \n",
    "#             Training the model\n",
    "            start = time.time()\n",
    "            gs = xgb.train(\n",
    "                            params=const_params, \n",
    "                            dtrain=dMatTrain, \n",
    "                            num_boost_round=5000, \n",
    "                            evals=eval_set_list,\n",
    "                            early_stopping_rounds=100,\n",
    "                            verbose_eval=False\n",
    "                            )    \n",
    "            end = time.time()\n",
    "#             print(f'Execution time: {np.round((end - start),2)}s\\n')\n",
    "#             print('------------------------------------')\n",
    "            \n",
    "            pred_y = np.expm1(gs.predict(dMatTest))\n",
    "        \n",
    "#             Sum kfold model score\n",
    "            kfold_gs_score += np.sqrt(metrics.mean_squared_error(np.expm1(test_y), pred_y))\n",
    "    \n",
    "#         Produce average model score\n",
    "        gs_score = kfold_gs_score / n_folds\n",
    "#         print(f'Parameter score: {gs_score}\\n')\n",
    "        \n",
    "#         Only keep the best parameters\n",
    "        if best_score > gs_score:\n",
    "            best_score = gs_score\n",
    "            best_params = current_params\n",
    "    print(f'The best parameters found were: {best_params}')\n",
    "    return best_params"
   ]
  },
  {
   "cell_type": "code",
   "execution_count": 3,
   "metadata": {
    "ExecuteTime": {
     "end_time": "2019-09-25T20:08:56.099935Z",
     "start_time": "2019-09-25T20:08:56.094091Z"
    }
   },
   "outputs": [
    {
     "name": "stdout",
     "output_type": "stream",
     "text": [
      "The best parameters found were: {'max_depth': 11, 'min_child_weight': 4, 'subsample': 0.7999999999999999}\n",
      "CPU times: user 1h 5min 34s, sys: 2h 39min 13s, total: 3h 44min 48s\n",
      "Wall time: 3h 44min 52s\n"
     ]
    }
   ],
   "source": [
    "%%time\n",
    "grid_params = {\n",
    "    'subsample': np.arange(0.5,1,0.1).tolist(),\n",
    "    'max_depth': np.arange(3,12,1).tolist(),\n",
    "    'min_child_weight': np.arange(3,6,1).tolist()\n",
    "}\n",
    "search_space(grid_params, 3)\n",
    "pprint(grid_params)\n",
    "\n",
    "best_params = GridSearch(grid_params, X, y)"
   ]
  },
  {
   "cell_type": "markdown",
   "metadata": {},
   "source": [
    "## Random Forest Regressor: Parameter Tuning with Cross-Validation\n",
    "As we have done with the XGBoost algorithm, parameter tuning will find the best combination of parameters to get the model out of our model."
   ]
  },
  {
   "cell_type": "code",
   "execution_count": 35,
   "metadata": {},
   "outputs": [
    {
     "name": "stdout",
     "output_type": "stream",
     "text": [
      "Number of combinations: 270\n",
      "With 3 number of folds\n",
      "\n",
      "{'max_depth': [2, 4, 7, 9, 12, None],\n",
      " 'min_samples_split': [2, 5, 10],\n",
      " 'n_estimators': [200, 650, 1100, 1550, 2000]}\n"
     ]
    }
   ],
   "source": [
    "k_folds = 3\n",
    "\n",
    "max_depth = [int(x) for x in np.linspace(2,12,5)]\n",
    "max_depth.append(None)\n",
    "random_grid = {\n",
    "    'n_estimators': [int(x) for x in np.linspace(200,2000,5)],\n",
    "    'max_depth': max_depth,\n",
    "    'min_samples_split': [2, 5, 10]\n",
    "}\n",
    "\n",
    "search_space(random_grid, k_folds)\n",
    "pprint(random_grid)"
   ]
  },
  {
   "cell_type": "code",
   "execution_count": 4,
   "metadata": {
    "ExecuteTime": {
     "end_time": "2019-09-25T20:10:04.438475Z",
     "start_time": "2019-09-25T20:10:04.430778Z"
    }
   },
   "outputs": [
    {
     "name": "stdout",
     "output_type": "stream",
     "text": [
      "{'n_estimators': 650, 'min_samples_split': 5, 'max_depth': None}\n"
     ]
    }
   ],
   "source": [
    "randForestRegres = RandomForestRegressor(random_state=42)\n",
    "\n",
    "rs = RandomizedSearchCV(\n",
    "    estimator=randForestRegres,\n",
    "    param_distributions=random_grid,\n",
    "    cv=k_folds\n",
    ")\n",
    "rs.fit(X, y)\n",
    "\n",
    "print(rs.best_params_)"
   ]
  },
  {
   "cell_type": "markdown",
   "metadata": {},
   "source": [
    "As RandomSearch does not have the best accuracy, we will further tune the parameters using a GridSearch with widened parameter boundaries. "
   ]
  },
  {
   "cell_type": "code",
   "execution_count": 37,
   "metadata": {},
   "outputs": [
    {
     "name": "stdout",
     "output_type": "stream",
     "text": [
      "Number of combinations: 81\n",
      "With 3 number of folds\n",
      "\n",
      "{'max_depth': [None, 1, 2],\n",
      " 'min_samples_split': [4, 5, 6],\n",
      " 'n_estimators': [550, 650, 750]}\n"
     ]
    }
   ],
   "source": [
    "# best_rand_param = {'n_estimators': 650, 'min_samples_split': 5, 'max_depth': None}\n",
    "\n",
    "grid_params = {\n",
    "    'n_estimators': [550,650,750],\n",
    "    'max_depth': [None,1,2],\n",
    "    'min_samples_split': [4,5,6]\n",
    "}\n",
    "\n",
    "search_space(grid_params, k_folds)\n",
    "pprint(grid_params)"
   ]
  },
  {
   "cell_type": "code",
   "execution_count": 5,
   "metadata": {
    "ExecuteTime": {
     "end_time": "2019-09-25T20:11:11.604552Z",
     "start_time": "2019-09-25T20:11:11.597838Z"
    }
   },
   "outputs": [
    {
     "name": "stdout",
     "output_type": "stream",
     "text": [
      "{'max_depth': None, 'min_samples_split': 5, 'n_estimators': 750}\n"
     ]
    }
   ],
   "source": [
    "# Create a based model\n",
    "randForestRegres = RandomForestRegressor(random_state=42)\n",
    "\n",
    "gs = GridSearchCV(\n",
    "    estimator=randForestRegres, \n",
    "    param_grid=grid_params,\n",
    "    cv = k_folds\n",
    ")\n",
    "gs.fit(X,y)\n",
    "print(gs.best_params_)"
   ]
  },
  {
   "cell_type": "markdown",
   "metadata": {},
   "source": [
    "## Model comparison with optimal parameters"
   ]
  },
  {
   "cell_type": "code",
   "execution_count": 39,
   "metadata": {},
   "outputs": [],
   "source": [
    "model_scores = {}\n",
    "\n",
    "randForestRegres = RandomForestRegressor(\n",
    "    n_estimators=750,\n",
    "    max_depth=None,\n",
    "    min_samples_split=5,\n",
    "    random_state=42,\n",
    "    n_jobs=-1\n",
    ").fit(X_train, y_train)\n",
    "model_scores['Random Forest'] = metrics.mean_squared_error(y_test, randForestRegres.predict(X_test))"
   ]
  },
  {
   "cell_type": "code",
   "execution_count": 40,
   "metadata": {},
   "outputs": [
    {
     "name": "stderr",
     "output_type": "stream",
     "text": [
      "/opt/conda/lib/python3.6/site-packages/xgboost/core.py:587: FutureWarning: Series.base is deprecated and will be removed in a future version\n",
      "  if getattr(data, 'base', None) is not None and \\\n"
     ]
    },
    {
     "name": "stdout",
     "output_type": "stream",
     "text": [
      "[08:57:12] WARNING: /workspace/src/objective/regression_obj.cu:152: reg:linear is now deprecated in favor of reg:squarederror.\n"
     ]
    }
   ],
   "source": [
    "xgbRegres = xgb.XGBRegressor(\n",
    "    max_depth=6,\n",
    "    min_child_weight=4,\n",
    "    subsample=0.8999999999999999,\n",
    "    random_state=42,\n",
    "    n_jobs=-1\n",
    ").fit(X_train, y_train)\n",
    "model_scores['XGBoost'] = metrics.mean_squared_error(y_test, xgbRegres.predict(X_test))"
   ]
  },
  {
   "cell_type": "code",
   "execution_count": 41,
   "metadata": {},
   "outputs": [
    {
     "data": {
      "image/png": "[encoded data removed]",
      "text/plain": [
       "<Figure size 1080x648 with 1 Axes>"
      ]
     },
     "metadata": {
      "needs_background": "light"
     },
     "output_type": "display_data"
    },
    {
     "data": {
      "text/plain": [
       "1813"
      ]
     },
     "execution_count": 41,
     "metadata": {},
     "output_type": "execute_result"
    }
   ],
   "source": [
    "model_scores_df = pd.DataFrame(model_scores.values(), columns=['scores'], index=model_scores.keys())\n",
    "plt.figure(figsize=[15,9])\n",
    "plt.title('Model Scores')\n",
    "plt.ylabel('Mean Squared Error')\n",
    "plt.plot(model_scores_df)\n",
    "plt.show()\n",
    "\n",
    "gc.collect()"
   ]
  },
  {
   "cell_type": "markdown",
   "metadata": {},
   "source": [
    "From the above graph we can see that the Random Forest regressor offers a better predictability."
   ]
  },
  {
   "cell_type": "markdown",
   "metadata": {},
   "source": [
    "# Feature Testing using XGBoost\n",
    "## Correlated\n",
    "Now that we have the best parameters for our XGB model, we can measure how well the model preforms with highly correlated features.\n",
    "\n",
    "I have decided to use the XGBoost algorithm for feature testing because of the increased speed the GPU capablility offers."
   ]
  },
  {
   "cell_type": "code",
   "execution_count": 42,
   "metadata": {},
   "outputs": [],
   "source": [
    "def XGBCV(X_data, y_data, model_params, folds_n):\n",
    "    folds = KFold(n_splits=folds_n, shuffle=True, random_state=42)\n",
    "    kfold_gs_score=0\n",
    "    for train_index, test_index in folds.split(X_data):\n",
    "    #    Seperate train/test data\n",
    "        train_X, train_y = X_data.loc[train_index], y_data[train_index]\n",
    "        test_X, test_y = X_data.loc[test_index], y_data[test_index]\n",
    "\n",
    "    #    Preparing the training data\n",
    "        eval_set_list = create_eval_set(test_X, test_y)\n",
    "        dMatTrain = to_dMatrix(train_X, train_y)\n",
    "        dMatTest = to_dMatrix(test_X)          \n",
    "\n",
    "    #    Training the model\n",
    "        gs = xgb.train(\n",
    "                        params=model_params, \n",
    "                        dtrain=dMatTrain, \n",
    "                        num_boost_round=5000, \n",
    "                        evals=eval_set_list,\n",
    "                        early_stopping_rounds=100, \n",
    "                        verbose_eval=False\n",
    "                        )\n",
    "\n",
    "        pred_y = np.expm1(gs.predict(dMatTest))\n",
    "\n",
    "    #    Sum kfold model score\n",
    "        kfold_gs_score += np.sqrt(metrics.mean_squared_error(np.expm1(test_y), pred_y))\n",
    "\n",
    "    # Produce average model score\n",
    "    gs_score = kfold_gs_score / folds_n\n",
    "    return gs_score"
   ]
  },
  {
   "cell_type": "code",
   "execution_count": 43,
   "metadata": {},
   "outputs": [],
   "source": [
    "## Preparing the data\n",
    "best_params = {'max_depth': 6, 'min_child_weight': 4, 'subsample': 0.8999999999999999}\n",
    "params = {\n",
    "    'objective': 'reg:squarederror',\n",
    "    'eta':0.01,\n",
    "    'eval_metric':'rmse',\n",
    "    'tree_method': 'gpu_hist'\n",
    "}\n",
    "params.update(best_params)"
   ]
  },
  {
   "cell_type": "code",
   "execution_count": 44,
   "metadata": {},
   "outputs": [],
   "source": [
    "# A collection of all model scores\n",
    "scores = {}\n",
    "idx = []"
   ]
  },
  {
   "cell_type": "code",
   "execution_count": 45,
   "metadata": {},
   "outputs": [
    {
     "name": "stderr",
     "output_type": "stream",
     "text": [
      "/opt/conda/lib/python3.6/site-packages/xgboost/core.py:587: FutureWarning: Series.base is deprecated and will be removed in a future version\n",
      "  if getattr(data, 'base', None) is not None and \\\n",
      "/opt/conda/lib/python3.6/site-packages/xgboost/core.py:587: FutureWarning: Series.base is deprecated and will be removed in a future version\n",
      "  if getattr(data, 'base', None) is not None and \\\n",
      "/opt/conda/lib/python3.6/site-packages/xgboost/core.py:587: FutureWarning: Series.base is deprecated and will be removed in a future version\n",
      "  if getattr(data, 'base', None) is not None and \\\n",
      "/opt/conda/lib/python3.6/site-packages/xgboost/core.py:587: FutureWarning: Series.base is deprecated and will be removed in a future version\n",
      "  if getattr(data, 'base', None) is not None and \\\n",
      "/opt/conda/lib/python3.6/site-packages/xgboost/core.py:587: FutureWarning: Series.base is deprecated and will be removed in a future version\n",
      "  if getattr(data, 'base', None) is not None and \\\n"
     ]
    },
    {
     "data": {
      "text/plain": [
       "129"
      ]
     },
     "execution_count": 45,
     "metadata": {},
     "output_type": "execute_result"
    }
   ],
   "source": [
    "# Highly correlated features\n",
    "scores['corr'] = XGBCV(X_corr, y_corr, params, 5)\n",
    "\n",
    "del X_corr, y_corr\n",
    "gc.collect()"
   ]
  },
  {
   "cell_type": "markdown",
   "metadata": {},
   "source": [
    "## Log tranform\n",
    "Here we will be comparing how well the log transformed model preforms."
   ]
  },
  {
   "cell_type": "code",
   "execution_count": 46,
   "metadata": {},
   "outputs": [
    {
     "name": "stderr",
     "output_type": "stream",
     "text": [
      "/opt/conda/lib/python3.6/site-packages/xgboost/core.py:587: FutureWarning: Series.base is deprecated and will be removed in a future version\n",
      "  if getattr(data, 'base', None) is not None and \\\n",
      "/opt/conda/lib/python3.6/site-packages/xgboost/core.py:587: FutureWarning: Series.base is deprecated and will be removed in a future version\n",
      "  if getattr(data, 'base', None) is not None and \\\n",
      "/opt/conda/lib/python3.6/site-packages/xgboost/core.py:587: FutureWarning: Series.base is deprecated and will be removed in a future version\n",
      "  if getattr(data, 'base', None) is not None and \\\n",
      "/opt/conda/lib/python3.6/site-packages/xgboost/core.py:587: FutureWarning: Series.base is deprecated and will be removed in a future version\n",
      "  if getattr(data, 'base', None) is not None and \\\n",
      "/opt/conda/lib/python3.6/site-packages/xgboost/core.py:587: FutureWarning: Series.base is deprecated and will be removed in a future version\n",
      "  if getattr(data, 'base', None) is not None and \\\n"
     ]
    },
    {
     "data": {
      "text/plain": [
       "174"
      ]
     },
     "execution_count": 46,
     "metadata": {},
     "output_type": "execute_result"
    }
   ],
   "source": [
    "# Highly correlated features\n",
    "scores['log'] = XGBCV(X_log, y_log, params, 5)\n",
    "\n",
    "del X_log, y_log\n",
    "gc.collect()"
   ]
  },
  {
   "cell_type": "markdown",
   "metadata": {},
   "source": [
    "Tranformed data did not preform as well as non-transformed data."
   ]
  },
  {
   "cell_type": "markdown",
   "metadata": {},
   "source": [
    "## Mean Smoothing"
   ]
  },
  {
   "cell_type": "code",
   "execution_count": 47,
   "metadata": {},
   "outputs": [
    {
     "name": "stderr",
     "output_type": "stream",
     "text": [
      "/opt/conda/lib/python3.6/site-packages/xgboost/core.py:587: FutureWarning: Series.base is deprecated and will be removed in a future version\n",
      "  if getattr(data, 'base', None) is not None and \\\n",
      "/opt/conda/lib/python3.6/site-packages/xgboost/core.py:587: FutureWarning: Series.base is deprecated and will be removed in a future version\n",
      "  if getattr(data, 'base', None) is not None and \\\n",
      "/opt/conda/lib/python3.6/site-packages/xgboost/core.py:587: FutureWarning: Series.base is deprecated and will be removed in a future version\n",
      "  if getattr(data, 'base', None) is not None and \\\n",
      "/opt/conda/lib/python3.6/site-packages/xgboost/core.py:587: FutureWarning: Series.base is deprecated and will be removed in a future version\n",
      "  if getattr(data, 'base', None) is not None and \\\n",
      "/opt/conda/lib/python3.6/site-packages/xgboost/core.py:587: FutureWarning: Series.base is deprecated and will be removed in a future version\n",
      "  if getattr(data, 'base', None) is not None and \\\n",
      "/opt/conda/lib/python3.6/site-packages/xgboost/core.py:587: FutureWarning: Series.base is deprecated and will be removed in a future version\n",
      "  if getattr(data, 'base', None) is not None and \\\n",
      "/opt/conda/lib/python3.6/site-packages/xgboost/core.py:587: FutureWarning: Series.base is deprecated and will be removed in a future version\n",
      "  if getattr(data, 'base', None) is not None and \\\n",
      "/opt/conda/lib/python3.6/site-packages/xgboost/core.py:587: FutureWarning: Series.base is deprecated and will be removed in a future version\n",
      "  if getattr(data, 'base', None) is not None and \\\n",
      "/opt/conda/lib/python3.6/site-packages/xgboost/core.py:587: FutureWarning: Series.base is deprecated and will be removed in a future version\n",
      "  if getattr(data, 'base', None) is not None and \\\n",
      "/opt/conda/lib/python3.6/site-packages/xgboost/core.py:587: FutureWarning: Series.base is deprecated and will be removed in a future version\n",
      "  if getattr(data, 'base', None) is not None and \\\n",
      "/opt/conda/lib/python3.6/site-packages/xgboost/core.py:587: FutureWarning: Series.base is deprecated and will be removed in a future version\n",
      "  if getattr(data, 'base', None) is not None and \\\n",
      "/opt/conda/lib/python3.6/site-packages/xgboost/core.py:587: FutureWarning: Series.base is deprecated and will be removed in a future version\n",
      "  if getattr(data, 'base', None) is not None and \\\n",
      "/opt/conda/lib/python3.6/site-packages/xgboost/core.py:587: FutureWarning: Series.base is deprecated and will be removed in a future version\n",
      "  if getattr(data, 'base', None) is not None and \\\n",
      "/opt/conda/lib/python3.6/site-packages/xgboost/core.py:587: FutureWarning: Series.base is deprecated and will be removed in a future version\n",
      "  if getattr(data, 'base', None) is not None and \\\n",
      "/opt/conda/lib/python3.6/site-packages/xgboost/core.py:587: FutureWarning: Series.base is deprecated and will be removed in a future version\n",
      "  if getattr(data, 'base', None) is not None and \\\n",
      "/opt/conda/lib/python3.6/site-packages/xgboost/core.py:587: FutureWarning: Series.base is deprecated and will be removed in a future version\n",
      "  if getattr(data, 'base', None) is not None and \\\n",
      "/opt/conda/lib/python3.6/site-packages/xgboost/core.py:587: FutureWarning: Series.base is deprecated and will be removed in a future version\n",
      "  if getattr(data, 'base', None) is not None and \\\n",
      "/opt/conda/lib/python3.6/site-packages/xgboost/core.py:587: FutureWarning: Series.base is deprecated and will be removed in a future version\n",
      "  if getattr(data, 'base', None) is not None and \\\n",
      "/opt/conda/lib/python3.6/site-packages/xgboost/core.py:587: FutureWarning: Series.base is deprecated and will be removed in a future version\n",
      "  if getattr(data, 'base', None) is not None and \\\n",
      "/opt/conda/lib/python3.6/site-packages/xgboost/core.py:587: FutureWarning: Series.base is deprecated and will be removed in a future version\n",
      "  if getattr(data, 'base', None) is not None and \\\n",
      "/opt/conda/lib/python3.6/site-packages/xgboost/core.py:587: FutureWarning: Series.base is deprecated and will be removed in a future version\n",
      "  if getattr(data, 'base', None) is not None and \\\n",
      "/opt/conda/lib/python3.6/site-packages/xgboost/core.py:587: FutureWarning: Series.base is deprecated and will be removed in a future version\n",
      "  if getattr(data, 'base', None) is not None and \\\n",
      "/opt/conda/lib/python3.6/site-packages/xgboost/core.py:587: FutureWarning: Series.base is deprecated and will be removed in a future version\n",
      "  if getattr(data, 'base', None) is not None and \\\n",
      "/opt/conda/lib/python3.6/site-packages/xgboost/core.py:587: FutureWarning: Series.base is deprecated and will be removed in a future version\n",
      "  if getattr(data, 'base', None) is not None and \\\n",
      "/opt/conda/lib/python3.6/site-packages/xgboost/core.py:587: FutureWarning: Series.base is deprecated and will be removed in a future version\n",
      "  if getattr(data, 'base', None) is not None and \\\n"
     ]
    },
    {
     "data": {
      "text/plain": [
       "266"
      ]
     },
     "execution_count": 47,
     "metadata": {},
     "output_type": "execute_result"
    }
   ],
   "source": [
    "# Mean smoothing features\n",
    "scores['ms3'] = XGBCV(X_3mms, y_3mms, params, 5)\n",
    "scores['ms6'] = XGBCV(X_6mms, y_6mms, params, 5)\n",
    "scores['ms12'] = XGBCV(X_12mms, y_12mms, params, 5)\n",
    "\n",
    "scores['ms7'] = XGBCV(X_7dms, y_7dms, params, 5)\n",
    "scores['ms30'] = XGBCV(X_30dms, y_30dms, params, 5)\n",
    "\n",
    "del X_3mms, X_6mms, X_7dms, y_3mms, y_6mms, y_7dms\n",
    "gc.collect()"
   ]
  },
  {
   "cell_type": "markdown",
   "metadata": {},
   "source": [
    "## Period summation"
   ]
  },
  {
   "cell_type": "code",
   "execution_count": 48,
   "metadata": {},
   "outputs": [
    {
     "name": "stderr",
     "output_type": "stream",
     "text": [
      "/opt/conda/lib/python3.6/site-packages/xgboost/core.py:587: FutureWarning: Series.base is deprecated and will be removed in a future version\n",
      "  if getattr(data, 'base', None) is not None and \\\n",
      "/opt/conda/lib/python3.6/site-packages/xgboost/core.py:587: FutureWarning: Series.base is deprecated and will be removed in a future version\n",
      "  if getattr(data, 'base', None) is not None and \\\n",
      "/opt/conda/lib/python3.6/site-packages/xgboost/core.py:587: FutureWarning: Series.base is deprecated and will be removed in a future version\n",
      "  if getattr(data, 'base', None) is not None and \\\n",
      "/opt/conda/lib/python3.6/site-packages/xgboost/core.py:587: FutureWarning: Series.base is deprecated and will be removed in a future version\n",
      "  if getattr(data, 'base', None) is not None and \\\n",
      "/opt/conda/lib/python3.6/site-packages/xgboost/core.py:587: FutureWarning: Series.base is deprecated and will be removed in a future version\n",
      "  if getattr(data, 'base', None) is not None and \\\n",
      "/opt/conda/lib/python3.6/site-packages/xgboost/core.py:587: FutureWarning: Series.base is deprecated and will be removed in a future version\n",
      "  if getattr(data, 'base', None) is not None and \\\n",
      "/opt/conda/lib/python3.6/site-packages/xgboost/core.py:587: FutureWarning: Series.base is deprecated and will be removed in a future version\n",
      "  if getattr(data, 'base', None) is not None and \\\n",
      "/opt/conda/lib/python3.6/site-packages/xgboost/core.py:587: FutureWarning: Series.base is deprecated and will be removed in a future version\n",
      "  if getattr(data, 'base', None) is not None and \\\n",
      "/opt/conda/lib/python3.6/site-packages/xgboost/core.py:587: FutureWarning: Series.base is deprecated and will be removed in a future version\n",
      "  if getattr(data, 'base', None) is not None and \\\n",
      "/opt/conda/lib/python3.6/site-packages/xgboost/core.py:587: FutureWarning: Series.base is deprecated and will be removed in a future version\n",
      "  if getattr(data, 'base', None) is not None and \\\n",
      "/opt/conda/lib/python3.6/site-packages/xgboost/core.py:587: FutureWarning: Series.base is deprecated and will be removed in a future version\n",
      "  if getattr(data, 'base', None) is not None and \\\n",
      "/opt/conda/lib/python3.6/site-packages/xgboost/core.py:587: FutureWarning: Series.base is deprecated and will be removed in a future version\n",
      "  if getattr(data, 'base', None) is not None and \\\n",
      "/opt/conda/lib/python3.6/site-packages/xgboost/core.py:587: FutureWarning: Series.base is deprecated and will be removed in a future version\n",
      "  if getattr(data, 'base', None) is not None and \\\n",
      "/opt/conda/lib/python3.6/site-packages/xgboost/core.py:587: FutureWarning: Series.base is deprecated and will be removed in a future version\n",
      "  if getattr(data, 'base', None) is not None and \\\n",
      "/opt/conda/lib/python3.6/site-packages/xgboost/core.py:587: FutureWarning: Series.base is deprecated and will be removed in a future version\n",
      "  if getattr(data, 'base', None) is not None and \\\n",
      "/opt/conda/lib/python3.6/site-packages/xgboost/core.py:587: FutureWarning: Series.base is deprecated and will be removed in a future version\n",
      "  if getattr(data, 'base', None) is not None and \\\n",
      "/opt/conda/lib/python3.6/site-packages/xgboost/core.py:587: FutureWarning: Series.base is deprecated and will be removed in a future version\n",
      "  if getattr(data, 'base', None) is not None and \\\n",
      "/opt/conda/lib/python3.6/site-packages/xgboost/core.py:587: FutureWarning: Series.base is deprecated and will be removed in a future version\n",
      "  if getattr(data, 'base', None) is not None and \\\n",
      "/opt/conda/lib/python3.6/site-packages/xgboost/core.py:587: FutureWarning: Series.base is deprecated and will be removed in a future version\n",
      "  if getattr(data, 'base', None) is not None and \\\n",
      "/opt/conda/lib/python3.6/site-packages/xgboost/core.py:587: FutureWarning: Series.base is deprecated and will be removed in a future version\n",
      "  if getattr(data, 'base', None) is not None and \\\n",
      "/opt/conda/lib/python3.6/site-packages/xgboost/core.py:587: FutureWarning: Series.base is deprecated and will be removed in a future version\n",
      "  if getattr(data, 'base', None) is not None and \\\n",
      "/opt/conda/lib/python3.6/site-packages/xgboost/core.py:587: FutureWarning: Series.base is deprecated and will be removed in a future version\n",
      "  if getattr(data, 'base', None) is not None and \\\n",
      "/opt/conda/lib/python3.6/site-packages/xgboost/core.py:587: FutureWarning: Series.base is deprecated and will be removed in a future version\n",
      "  if getattr(data, 'base', None) is not None and \\\n",
      "/opt/conda/lib/python3.6/site-packages/xgboost/core.py:587: FutureWarning: Series.base is deprecated and will be removed in a future version\n",
      "  if getattr(data, 'base', None) is not None and \\\n",
      "/opt/conda/lib/python3.6/site-packages/xgboost/core.py:587: FutureWarning: Series.base is deprecated and will be removed in a future version\n",
      "  if getattr(data, 'base', None) is not None and \\\n"
     ]
    },
    {
     "data": {
      "text/plain": [
       "572"
      ]
     },
     "execution_count": 48,
     "metadata": {},
     "output_type": "execute_result"
    }
   ],
   "source": [
    "# Period summed features\n",
    "scores['sum3'] = XGBCV(X_3m_sum, y_3m_sum, params, 5)\n",
    "scores['sum6'] = XGBCV(X_6m_sum, y_6m_sum, params, 5)\n",
    "scores['sum12'] = XGBCV(X_12m_sum, y_12m_sum, params, 5)\n",
    "\n",
    "scores['sum7'] = XGBCV(X_7d_sum, y_7d_sum, params, 5)\n",
    "scores['sum30'] = XGBCV(X_30d_sum, y_30d_sum, params, 5)\n",
    "\n",
    "del X_3m_sum, X_6m_sum, X_12m_sum, X_7d_sum, X_30d_sum, y_3m_sum, y_6m_sum, y_12m_sum, y_7d_sum, y_30d_sum\n",
    "gc.collect()"
   ]
  },
  {
   "cell_type": "markdown",
   "metadata": {},
   "source": [
    "### Feature Engineering Results\n",
    "The following graph plots the scores each algorithm achieved."
   ]
  },
  {
   "cell_type": "code",
   "execution_count": 49,
   "metadata": {},
   "outputs": [],
   "source": [
    "scores_df = pd.DataFrame(scores.values(), columns=['scores'], index=scores.keys())"
   ]
  },
  {
   "cell_type": "code",
   "execution_count": 50,
   "metadata": {},
   "outputs": [
    {
     "data": {
      "image/png": "[encoded data removed]",
      "text/plain": [
       "<Figure size 1368x648 with 1 Axes>"
      ]
     },
     "metadata": {
      "needs_background": "light"
     },
     "output_type": "display_data"
    }
   ],
   "source": [
    "plt.figure(figsize=[19,9])\n",
    "plt.title('Model Scores')\n",
    "plt.ylabel('Mean Squared Error')\n",
    "plt.plot(scores_df)\n",
    "plt.show()"
   ]
  },
  {
   "cell_type": "markdown",
   "metadata": {},
   "source": [
    "A visual examination of the graph shows MS12 and MS30 as being the best set of parameters."
   ]
  },
  {
   "cell_type": "markdown",
   "metadata": {},
   "source": [
    "# Final Model\n",
    "Now that we have found our best parameters and selected which features to include, we can train our final model and submit to the competition. We will try both random forest and XGBoost with best parameters and optimal features as both algorithms have a good predictive score for this problem."
   ]
  },
  {
   "cell_type": "markdown",
   "metadata": {},
   "source": [
    "### Random Forest"
   ]
  },
  {
   "cell_type": "code",
   "execution_count": 51,
   "metadata": {},
   "outputs": [],
   "source": [
    "randForestRegres = RandomForestRegressor(\n",
    "    n_estimators=750,\n",
    "    max_depth=None,\n",
    "    min_samples_split=5,\n",
    "    random_state=42,\n",
    "    n_jobs=-1\n",
    ")"
   ]
  },
  {
   "cell_type": "code",
   "execution_count": 52,
   "metadata": {},
   "outputs": [],
   "source": [
    "# All features\n",
    "randForestRegres.fit(X, y)\n",
    "rf_y_pred = np.expm1(randForestRegres.predict(test))"
   ]
  },
  {
   "cell_type": "code",
   "execution_count": 6,
   "metadata": {
    "ExecuteTime": {
     "end_time": "2019-09-25T20:16:00.515969Z",
     "start_time": "2019-09-25T20:16:00.507953Z"
    }
   },
   "outputs": [],
   "source": [
    "# Mean smoothing 12 month period\n",
    "X_12mms.fillna(-999, inplace=True)\n",
    "\n",
    "randForestRegres.fit(X_12mms, y_12mms)\n",
    "rf_12_y_pred = np.expm1(randForestRegres.predict(test))"
   ]
  },
  {
   "cell_type": "code",
   "execution_count": 7,
   "metadata": {
    "ExecuteTime": {
     "end_time": "2019-09-25T20:16:08.402463Z",
     "start_time": "2019-09-25T20:16:08.394489Z"
    }
   },
   "outputs": [],
   "source": [
    "# Mean smoothing 30 day period\n",
    "X_30dms.fillna(-999, inplace=True)\n",
    "\n",
    "randForestRegres.fit(X_30dms, y_30dms)\n",
    "rf_30_y_pred = np.expm1(randForestRegres.predict(test))"
   ]
  },
  {
   "cell_type": "markdown",
   "metadata": {},
   "source": [
    "### XGBoost"
   ]
  },
  {
   "cell_type": "code",
   "execution_count": 55,
   "metadata": {},
   "outputs": [
    {
     "name": "stderr",
     "output_type": "stream",
     "text": [
      "/opt/conda/lib/python3.6/site-packages/xgboost/core.py:587: FutureWarning: Series.base is deprecated and will be removed in a future version\n",
      "  if getattr(data, 'base', None) is not None and \\\n"
     ]
    },
    {
     "data": {
      "text/plain": [
       "2578"
      ]
     },
     "execution_count": 55,
     "metadata": {},
     "output_type": "execute_result"
    }
   ],
   "source": [
    "## Data preparation\n",
    "X_train, X_test, y_train, y_test = train_test_split(\n",
    "    X_12mms, y_12mms, test_size=0.25, random_state=42)\n",
    "\n",
    "# Eval_set train/test preformance data\n",
    "dX_train = xgb.DMatrix(X_train, y_train)\n",
    "dy_test = xgb.DMatrix(X_test, y_test)\n",
    "\n",
    "# Training data\n",
    "dtrain = xgb.DMatrix(X, y)\n",
    "# Training 12 month mean smoothing data\n",
    "d12train = xgb.DMatrix(X_12mms, y_12mms)\n",
    "# Training 30 day mean smoothing data\n",
    "d30train = xgb.DMatrix(X_30dms, y_30dms)\n",
    "\n",
    "del X_train, X_test, y_train, y_test, X, y, X_12mms, X_30dms, y_12mms, y_30dms\n",
    "gc.collect()"
   ]
  },
  {
   "cell_type": "code",
   "execution_count": 56,
   "metadata": {},
   "outputs": [],
   "source": [
    "dtest = xgb.DMatrix(test)\n",
    "del test"
   ]
  },
  {
   "cell_type": "code",
   "execution_count": 57,
   "metadata": {},
   "outputs": [],
   "source": [
    "# original algorithm\n",
    "best_params = {'max_depth': 6, 'min_child_weight': 4, 'subsample': 0.8999999999999999}\n",
    "params = {\n",
    "    'objective': 'reg:squarederror',\n",
    "    'eta':0.01,\n",
    "    'eval_metric':'rmse',\n",
    "    'tree_method': 'gpu_hist'\n",
    "}\n",
    "\n",
    "params.update(best_params)\n",
    "\n",
    "eval_set = [(dX_train, 'train'), (dy_test, 'eval')]"
   ]
  },
  {
   "cell_type": "code",
   "execution_count": 58,
   "metadata": {},
   "outputs": [],
   "source": [
    "bst = xgb.train(\n",
    "                params=params, \n",
    "                dtrain=dtrain, \n",
    "                num_boost_round=5000, \n",
    "                evals=eval_set,\n",
    "                early_stopping_rounds=100,\n",
    "                verbose_eval=False\n",
    "                )\n",
    "xgb_y_pred = np.expm1(bst.predict(dtest))\n",
    "\n",
    "del dtrain"
   ]
  },
  {
   "cell_type": "code",
   "execution_count": 59,
   "metadata": {},
   "outputs": [],
   "source": [
    "bst = xgb.train(\n",
    "                params=params, \n",
    "                dtrain=d12train, \n",
    "                num_boost_round=5000, \n",
    "                evals=eval_set,\n",
    "                early_stopping_rounds=100,\n",
    "                verbose_eval=False\n",
    "                )\n",
    "xgb_12_y_pred = np.expm1(bst.predict(dtest))\n",
    "\n",
    "del d12train"
   ]
  },
  {
   "cell_type": "code",
   "execution_count": 60,
   "metadata": {},
   "outputs": [],
   "source": [
    "bst = xgb.train(\n",
    "                params=params, \n",
    "                dtrain=d30train, \n",
    "                num_boost_round=5000, \n",
    "                evals=eval_set,\n",
    "                early_stopping_rounds=100,\n",
    "                verbose_eval=False\n",
    "                )\n",
    "xgb_30_y_pred = np.expm1(bst.predict(dtest))\n",
    "\n",
    "del d30train"
   ]
  },
  {
   "cell_type": "code",
   "execution_count": 61,
   "metadata": {},
   "outputs": [],
   "source": [
    "# XGBoost submission file\n",
    "sub = pd.read_csv(path + 'sample_submission.csv')\n",
    "sub['target'] = xgb_y_pred\n",
    "sub.to_csv('xgb_submission.csv', index=False)\n",
    "\n",
    "# XGBoost 12 submission file\n",
    "sub = pd.read_csv(path + 'sample_submission.csv')\n",
    "sub['target'] = xgb_12_y_pred\n",
    "sub.to_csv('xgb_12_submission.csv', index=False)\n",
    "\n",
    "# XGBoost 30 submission file\n",
    "sub = pd.read_csv(path + 'sample_submission.csv')\n",
    "sub['target'] = xgb_30_y_pred\n",
    "sub.to_csv('xgb_30_submission.csv', index=False)"
   ]
  },
  {
   "cell_type": "code",
   "execution_count": 8,
   "metadata": {
    "ExecuteTime": {
     "end_time": "2019-09-25T20:16:52.093952Z",
     "start_time": "2019-09-25T20:16:52.086250Z"
    }
   },
   "outputs": [],
   "source": [
    "# Random Forest all features submission file\n",
    "sub = pd.read_csv(path + 'sample_submission.csv')\n",
    "sub['target'] = rf_y_pred\n",
    "sub.to_csv('rf_submission.csv', index=False)\n",
    "\n",
    "# Random Forest 12 submission file\n",
    "sub = pd.read_csv(path + 'sample_submission.csv')\n",
    "sub['target'] = rf_12_y_pred\n",
    "sub.to_csv('rf_12_submission.csv', index=False)\n",
    "\n",
    "# Random Forest 30 submission file\n",
    "sub = pd.read_csv(path + 'sample_submission.csv')\n",
    "sub['target'] = rf_30_y_pred\n",
    "sub.to_csv('rf_30_submission.csv', index=False)"
   ]
  },
  {
   "cell_type": "markdown",
   "metadata": {},
   "source": [
    "## Best score\n",
    "![title](images/Best_submission.png)"
   ]
  },
  {
   "cell_type": "markdown",
   "metadata": {},
   "source": [
    "## Conclusion\n",
    "After submitting all files submission files, the XGBoost algorithm with all features included performed better than any other combination of models.\n",
    "\n",
    "Using the DataFrame unique() method, I was able to features that contained constant values. These constant values offer nothing to the model.\n",
    "\n",
    "The anonymized nature of the data makes it difficult to draw any sort of meaning from the data. Feature engineering was challenging as the methods for altering features were applied without cause or reason. I tried different combinations of mean smoothing and binning over different periods. This offered no improvement to the model.\n",
    "\n",
    "If I conducted this analysis again, I would spend more time researching methods of analysis for anonymized data."
   ]
  },
  {
   "cell_type": "code",
   "execution_count": null,
   "metadata": {},
   "outputs": [],
   "source": []
  }
 ],
 "metadata": {
  "hide_input": false,
  "kernelspec": {
   "display_name": "Python 3",
   "language": "python",
   "name": "python3"
  },
  "language_info": {
   "codemirror_mode": {
    "name": "ipython",
    "version": 3
   },
   "file_extension": ".py",
   "mimetype": "text/x-python",
   "name": "python",
   "nbconvert_exporter": "python",
   "pygments_lexer": "ipython3",
   "version": "3.7.3"
  }
 },
 "nbformat": 4,
 "nbformat_minor": 1
}
