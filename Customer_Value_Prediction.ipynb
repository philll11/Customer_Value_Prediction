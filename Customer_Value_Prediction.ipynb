{
  "nbformat": 4,
  "nbformat_minor": 0,
  "metadata": {
    "colab": {
      "name": "Customer Value Prediction.ipynb",
      "version": "0.3.2",
      "provenance": []
    },
    "kernelspec": {
      "name": "python3",
      "display_name": "Python 3"
    }
  },
  "cells": [
    {
      "cell_type": "code",
      "metadata": {
        "id": "q0nTtuYziJ5y",
        "colab_type": "code",
        "colab": {
          "base_uri": "https://localhost:8080/",
          "height": 170
        },
        "outputId": "a457ad39-9ae7-4a1c-e037-29d53720f666"
      },
      "source": [
        "!kaggle competitions download -c santander-value-prediction-challenge -p /content/customer_value_prediction"
      ],
      "execution_count": 11,
      "outputs": [
        {
          "output_type": "stream",
          "text": [
            "Downloading sample_submission.csv.zip to /content/customer_value_prediction\n",
            "\r  0% 0.00/266k [00:00<?, ?B/s]\n",
            "100% 266k/266k [00:00<00:00, 36.1MB/s]\n",
            "Downloading test.csv.zip to /content/customer_value_prediction\n",
            " 37% 9.00M/24.2M [00:00<00:00, 20.3MB/s]\n",
            "100% 24.2M/24.2M [00:00<00:00, 44.9MB/s]\n",
            "Downloading train.csv.zip to /content/customer_value_prediction\n",
            " 72% 5.00M/6.95M [00:00<00:00, 31.3MB/s]\n",
            "100% 6.95M/6.95M [00:00<00:00, 34.0MB/s]\n"
          ],
          "name": "stdout"
        }
      ]
    },
    {
      "cell_type": "code",
      "metadata": {
        "id": "Y6NfbQ6PjpMm",
        "colab_type": "code",
        "colab": {}
      },
      "source": [
        "import pandas as pd\n",
        "\n",
        "df = read_csv('/content/customer_value_prediction/sample_submission.csv.zip')"
      ],
      "execution_count": 0,
      "outputs": []
    }
  ]
}